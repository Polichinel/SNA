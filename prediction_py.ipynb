{
 "cells": [
  {
   "cell_type": "code",
   "execution_count": 1,
   "metadata": {},
   "outputs": [],
   "source": [
    "import numpy as np\n",
    "import pandas as pd\n",
    "import time\n",
    "\n",
    "import matplotlib.pyplot as plt\n",
    "import seaborn as sns\n",
    "\n",
    "from mlxtend.feature_selection import SequentialFeatureSelector as sfs\n",
    "from mlxtend.plotting import plot_sequential_feature_selection as plot_sfs\n",
    "from sklearn import linear_model"
   ]
  },
  {
   "cell_type": "code",
   "execution_count": 2,
   "metadata": {},
   "outputs": [],
   "source": [
    "def my_import():\n",
    "    \n",
    "    # Still including terror attacks...\n",
    "    \n",
    "    df = pd.read_csv(\"interpolated_df.csv\", index_col= 0)\n",
    "\n",
    "    ucdp = pd.read_csv(\"/home/polichinel/Dropbox/KU/9.semester/friopgave/data/upsala/ged181.csv\")# the error is not importent as you do not use that feature \n",
    "    ucdp =  ucdp[ucdp['gwnob'].isna()] # only conflicts NOT between to stats\n",
    "\n",
    "    ucdp_agg = ucdp.groupby(by = ['country_id','year'])[['best']].sum().reset_index()\n",
    "\n",
    "    cow = pd.read_csv(\"COW country codes.csv\")\n",
    "    cow.rename(columns={'CCode' : 'country_id', 'StateAbb' : 'country'}, inplace = True)\n",
    "    \n",
    "    # CCode and country_id should correspond but check GW 2013!\n",
    "\n",
    "    cow_ucdp_agg = cow.merge(ucdp_agg, on = 'country_id', how = 'outer')\n",
    "\n",
    "    cow = pd.read_csv(\"COW country codes.csv\")\n",
    "    cow.rename(columns={'CCode' : 'country_id', 'StateAbb' : 'country'}, inplace = True)\n",
    "\n",
    "    cow_ucdp_agg = cow.merge(ucdp_agg, on = 'country_id', how = 'outer')\n",
    "\n",
    "    df_cow_ucdp_agg = df.merge(cow_ucdp_agg, on = ['country', 'year'], how = 'left')\n",
    "    df_cow_ucdp_agg['best'].fillna(0,inplace = True)\n",
    "    \n",
    "    return(df_cow_ucdp_agg)"
   ]
  },
  {
   "cell_type": "code",
   "execution_count": 3,
   "metadata": {},
   "outputs": [
    {
     "name": "stderr",
     "output_type": "stream",
     "text": [
      "/home/polichinel/anaconda3/lib/python3.6/site-packages/IPython/core/interactiveshell.py:2802: DtypeWarning: Columns (9) have mixed types. Specify dtype option on import or set low_memory=False.\n",
      "  if self.run_code(code, result):\n"
     ]
    }
   ],
   "source": [
    "df = my_import()"
   ]
  },
  {
   "cell_type": "code",
   "execution_count": null,
   "metadata": {},
   "outputs": [],
   "source": []
  },
  {
   "cell_type": "code",
   "execution_count": null,
   "metadata": {},
   "outputs": [],
   "source": []
  },
  {
   "cell_type": "code",
   "execution_count": null,
   "metadata": {},
   "outputs": [],
   "source": []
  }
 ],
 "metadata": {
  "kernelspec": {
   "display_name": "Python 3",
   "language": "python",
   "name": "python3"
  },
  "language_info": {
   "codemirror_mode": {
    "name": "ipython",
    "version": 3
   },
   "file_extension": ".py",
   "mimetype": "text/x-python",
   "name": "python",
   "nbconvert_exporter": "python",
   "pygments_lexer": "ipython3",
   "version": "3.6.6"
  }
 },
 "nbformat": 4,
 "nbformat_minor": 2
}
