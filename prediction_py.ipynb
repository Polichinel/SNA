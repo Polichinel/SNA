{
 "cells": [
  {
   "cell_type": "code",
   "execution_count": 20,
   "metadata": {},
   "outputs": [],
   "source": [
    "import numpy as np\n",
    "import pandas as pd\n",
    "import time\n",
    "\n",
    "import matplotlib.pyplot as plt\n",
    "import seaborn as sns\n",
    "\n",
    "from mlxtend.feature_selection import SequentialFeatureSelector as sfs\n",
    "from mlxtend.plotting import plot_sequential_feature_selection as plot_sfs\n",
    "from sklearn import linear_model\n",
    "from sklearn import ensemble\n",
    "from sklearn import naive_bayes\n",
    "\n",
    "import statsmodels.formula.api as smf\n",
    "\n",
    "from imblearn.under_sampling import RandomUnderSampler"
   ]
  },
  {
   "cell_type": "code",
   "execution_count": 21,
   "metadata": {},
   "outputs": [],
   "source": [
    "def my_import():\n",
    "    \n",
    "    # Still including terror attacks...\n",
    "    \n",
    "    df = pd.read_csv(\"interpolated_df.csv\", index_col= 0)\n",
    "\n",
    "    ucdp = pd.read_csv(\"/home/polichinel/Dropbox/KU/9.semester/friopgave/data/upsala/ged181.csv\")# the error is not importent as you do not use that feature \n",
    "    ucdp =  ucdp[ucdp['gwnob'].isna()] # only conflicts NOT between to stats\n",
    "\n",
    "    ucdp_agg = ucdp.groupby(by = ['country_id','year'])[['best']].sum().reset_index()\n",
    "\n",
    "    cow = pd.read_csv(\"COW country codes.csv\")\n",
    "    cow.rename(columns={'CCode' : 'country_id', 'StateAbb' : 'country'}, inplace = True)\n",
    "    \n",
    "    # CCode and country_id should correspond but check GW 2013!\n",
    "\n",
    "    cow_ucdp_agg = cow.merge(ucdp_agg, on = 'country_id', how = 'outer')\n",
    "\n",
    "    cow = pd.read_csv(\"COW country codes.csv\")\n",
    "    cow.rename(columns={'CCode' : 'country_id', 'StateAbb' : 'country'}, inplace = True)\n",
    "\n",
    "    cow_ucdp_agg = cow.merge(ucdp_agg, on = 'country_id', how = 'outer')\n",
    "\n",
    "    df_cow_ucdp_agg = df.merge(cow_ucdp_agg, on = ['country', 'year'], how = 'left')\n",
    "    df_cow_ucdp_agg['best'].fillna(0,inplace = True)\n",
    "    \n",
    "    df_cow_ucdp_agg_lean = df_cow_ucdp_agg[['best','indegree_norm','outdegree_norm','degree_norm','center','downgrading','slope_indegree','slope_outdegree']]\n",
    "    \n",
    "    return(df_cow_ucdp_agg_lean)"
   ]
  },
  {
   "cell_type": "code",
   "execution_count": 22,
   "metadata": {},
   "outputs": [
    {
     "name": "stderr",
     "output_type": "stream",
     "text": [
      "/home/polichinel/anaconda3/lib/python3.6/site-packages/IPython/core/interactiveshell.py:2802: DtypeWarning: Columns (9) have mixed types. Specify dtype option on import or set low_memory=False.\n",
      "  if self.run_code(code, result):\n"
     ]
    }
   ],
   "source": [
    "df = my_import()"
   ]
  },
  {
   "cell_type": "code",
   "execution_count": 23,
   "metadata": {},
   "outputs": [
    {
     "data": {
      "text/plain": [
       "(8101, 8)"
      ]
     },
     "execution_count": 23,
     "metadata": {},
     "output_type": "execute_result"
    }
   ],
   "source": [
    "df.shape"
   ]
  },
  {
   "cell_type": "code",
   "execution_count": 24,
   "metadata": {},
   "outputs": [
    {
     "data": {
      "text/plain": [
       "(5928, 8)"
      ]
     },
     "execution_count": 24,
     "metadata": {},
     "output_type": "execute_result"
    }
   ],
   "source": [
    "df.dropna().shape # Why? Where?"
   ]
  },
  {
   "cell_type": "code",
   "execution_count": 25,
   "metadata": {},
   "outputs": [],
   "source": [
    "df.dropna(inplace = True)\n",
    "\n",
    "#y = df['best'].copy()\n",
    "\n",
    "y = np.array(df['best'] > 0).astype('int') # y_dum\n",
    "X = df[['indegree_norm','outdegree_norm','degree_norm','center','downgrading','slope_indegree','slope_outdegree']]\n",
    "\n",
    "# X_resampled, y_resampled = RandomUnderSampler(random_state=42).fit_sample(X,y)\n",
    "\n",
    "# X = X_resampled\n",
    "\n",
    "# y = y_resampled\n",
    "\n",
    "\n",
    "# Du skal nok ige havde lavet dig et test set..."
   ]
  },
  {
   "cell_type": "code",
   "execution_count": 26,
   "metadata": {},
   "outputs": [
    {
     "data": {
      "text/plain": [
       "array([0.19787449])"
      ]
     },
     "execution_count": 26,
     "metadata": {},
     "output_type": "execute_result"
    }
   ],
   "source": [
    "y.sum()/y.shape"
   ]
  },
  {
   "cell_type": "code",
   "execution_count": 27,
   "metadata": {},
   "outputs": [
    {
     "name": "stderr",
     "output_type": "stream",
     "text": [
      "[Parallel(n_jobs=6)]: Done   4 out of   7 | elapsed:    0.2s remaining:    0.1s\n",
      "[Parallel(n_jobs=6)]: Done   7 out of   7 | elapsed:    0.2s finished\n",
      "\n",
      "[2018-11-28 22:18:39] Features: 1/7 -- score: 0.6036502587379562[Parallel(n_jobs=6)]: Done   3 out of   6 | elapsed:    0.2s remaining:    0.2s\n",
      "[Parallel(n_jobs=6)]: Done   6 out of   6 | elapsed:    0.2s finished\n",
      "\n",
      "[2018-11-28 22:18:39] Features: 2/7 -- score: 0.6152940922429038[Parallel(n_jobs=5)]: Done   2 out of   5 | elapsed:    0.2s remaining:    0.3s\n",
      "[Parallel(n_jobs=5)]: Done   5 out of   5 | elapsed:    0.2s remaining:    0.0s\n",
      "[Parallel(n_jobs=5)]: Done   5 out of   5 | elapsed:    0.2s finished\n",
      "\n",
      "[2018-11-28 22:18:40] Features: 3/7 -- score: 0.6189433705502604[Parallel(n_jobs=4)]: Done   4 out of   4 | elapsed:    0.2s finished\n",
      "\n",
      "[2018-11-28 22:18:40] Features: 4/7 -- score: 0.6172890464747394[Parallel(n_jobs=3)]: Done   3 out of   3 | elapsed:    0.2s finished\n",
      "\n",
      "[2018-11-28 22:18:41] Features: 5/7 -- score: 0.6060917199561268[Parallel(n_jobs=2)]: Done   2 out of   2 | elapsed:    0.2s finished\n",
      "\n",
      "[2018-11-28 22:18:41] Features: 6/7 -- score: 0.5998518334527937"
     ]
    },
    {
     "name": "stdout",
     "output_type": "stream",
     "text": [
      "\n",
      "minutes it took: 0.04123289982477824\n",
      "\n"
     ]
    },
    {
     "name": "stderr",
     "output_type": "stream",
     "text": [
      "[Parallel(n_jobs=1)]: Done   1 out of   1 | elapsed:    0.1s remaining:    0.0s\n",
      "[Parallel(n_jobs=1)]: Done   1 out of   1 | elapsed:    0.1s finished\n",
      "\n",
      "[2018-11-28 22:18:41] Features: 7/7 -- score: 0.5273819274135694"
     ]
    }
   ],
   "source": [
    "time_start = time.time()\n",
    "\n",
    "sfs_f = sfs(estimator = linear_model.LogisticRegression(), k_features= 'best', forward = True, verbose = 2, scoring = 'roc_auc', cv = 10, n_jobs = 6)\n",
    "\n",
    "sfs_f = sfs_f.fit(X,y)\n",
    "\n",
    "\n",
    "time_stop = time.time()\n",
    "time_to_finish = time_stop - time_start\n",
    "\n",
    "print('\\nminutes it took: {}\\n'. format(time_to_finish/60))\n"
   ]
  },
  {
   "cell_type": "code",
   "execution_count": 28,
   "metadata": {},
   "outputs": [],
   "source": [
    "\n",
    "def first_best(selector = sfs_f):\n",
    "\n",
    "    result = 0\n",
    "\n",
    "    for i in np.arange(1,len(selector.k_feature_idx_)+1):\n",
    "\n",
    "        if selector.get_metric_dict()[i]['avg_score'] > result:\n",
    "\n",
    "            result = selector.get_metric_dict()[i]['avg_score']\n",
    "            feature_index = selector.get_metric_dict()[i]['feature_idx']\n",
    "            feature_names = selector.get_metric_dict()[i]['feature_names']\n",
    "            n_features = len(feature_index)\n",
    "\n",
    "        else:\n",
    "            break\n",
    "     \n",
    "    return([n_features,result,feature_index,feature_names])"
   ]
  },
  {
   "cell_type": "code",
   "execution_count": 29,
   "metadata": {},
   "outputs": [
    {
     "data": {
      "text/plain": [
       "[3,\n",
       " 0.6189433705502604,\n",
       " (0, 4, 5),\n",
       " ('indegree_norm', 'downgrading', 'slope_indegree')]"
      ]
     },
     "execution_count": 29,
     "metadata": {},
     "output_type": "execute_result"
    }
   ],
   "source": [
    "best_set = first_best()\n",
    "best_set"
   ]
  },
  {
   "cell_type": "code",
   "execution_count": 30,
   "metadata": {},
   "outputs": [],
   "source": [
    "# # Hvis du skal bruge det skal du lave dit eget plt...\n",
    "# plot_sfs(sfs_f.get_metric_dict(), kind='std_dev')\n",
    "# plt.vlines(best_set[0], 0, 1, 'red', 'dashed', alpha = 0.5)\n",
    "\n",
    "\n",
    "# plt.show()"
   ]
  },
  {
   "cell_type": "markdown",
   "metadata": {},
   "source": [
    "# you compare to GDP per capita?"
   ]
  },
  {
   "cell_type": "code",
   "execution_count": 31,
   "metadata": {},
   "outputs": [
    {
     "data": {
      "image/png": "[encoded data removed]",
      "text/plain": [
       "<Figure size 1080x360 with 1 Axes>"
      ]
     },
     "metadata": {},
     "output_type": "display_data"
    }
   ],
   "source": [
    "def plot_seq_fs():\n",
    "\n",
    "    list_of_means = []\n",
    "    list_of_std_dev = []\n",
    "    list_of_n = []\n",
    "\n",
    "    for i in np.arange(1,len(sfs_f.get_metric_dict())+1):\n",
    "\n",
    "        list_of_means.append(sfs_f.get_metric_dict()[i]['cv_scores'].mean())\n",
    "        list_of_std_dev.append(sfs_f.get_metric_dict()[i]['std_dev']) # but why is it not 2*std_err?\n",
    "        list_of_n.append(i)\n",
    "\n",
    "    colors = sns.palettes.color_palette(palette = \"hls\", n_colors = 2)    \n",
    "\n",
    "    plt.figure(figsize=[15,5])    \n",
    "\n",
    "    x = np.array(list_of_n)\n",
    "    y = np.array(list_of_means)\n",
    "\n",
    "    y_upper = y + np.array(list_of_std_dev) # * 2) \n",
    "    y_lower = y - np.array(list_of_std_dev) #* 2)\n",
    "\n",
    "    plt.plot(x,y, '-o' ,color = colors[1])\n",
    "    #plt.plot(x, y_upper, x, y_lower, color=colors[1], alpha = 0.4)\n",
    "\n",
    "    plt.fill_between(x, y_lower, y_upper, color='lightgrey', alpha = 0.4, label = '95% Confidence Interval')\n",
    "\n",
    "    plt.vlines(best_set[0], 0, 1, colors[0], 'dashed', alpha = 0.8, label = 'Optimal N of Features')\n",
    "\n",
    "    plt.ylabel('Metric')\n",
    "    plt.xlabel('Number of Features')\n",
    "    plt.title('Sequential (Forward) Feature Selection')\n",
    "\n",
    "    sns.despine(left = True, bottom = True)\n",
    "    plt.legend(frameon = False)\n",
    "    plt.show()\n",
    "    \n",
    "plot_seq_fs()"
   ]
  },
  {
   "cell_type": "code",
   "execution_count": 54,
   "metadata": {},
   "outputs": [
    {
     "name": "stdout",
     "output_type": "stream",
     "text": [
      "Optimization terminated successfully.\n",
      "         Current function value: 0.592909\n",
      "         Iterations 6\n",
      "Optimization terminated successfully.\n",
      "         Current function value: 0.592307\n",
      "         Iterations 6\n",
      "Optimization terminated successfully.\n",
      "         Current function value: 0.590181\n",
      "         Iterations 6\n"
     ]
    }
   ],
   "source": [
    "x1 = X['indegree_norm']\n",
    "x2 = X[['indegree_norm','downgrading']]\n",
    "x3 = X[['indegree_norm','downgrading','slope_indegree']]\n",
    "\n",
    "results1 = smf.Logit(y, x1).fit() #but you need of to include country and year FE.. But then you are there.\n",
    "results2 = smf.Logit(y, x2).fit() #but you need of to include country and year FE.. But then you are there.\n",
    "results3 = smf.Logit(y, x3).fit() #but you need of to include country and year FE.. But then you are there."
   ]
  },
  {
   "cell_type": "code",
   "execution_count": 56,
   "metadata": {},
   "outputs": [
    {
     "name": "stdout",
     "output_type": "stream",
     "text": [
      "                         Results: Logit\n",
      "================================================================\n",
      "Model:              Logit            No. Iterations:   6.0000   \n",
      "Dependent Variable: y                Pseudo R-squared: -0.192   \n",
      "Date:               2018-11-28 22:24 AIC:              7031.5242\n",
      "No. Observations:   5928             BIC:              7038.2117\n",
      "Df Model:           0                Log-Likelihood:   -3514.8  \n",
      "Df Residuals:       5927             LL-Null:          -2948.8  \n",
      "Converged:          1.0000           Scale:            1.0000   \n",
      "----------------------------------------------------------------\n",
      "                 Coef.  Std.Err.    z     P>|z|   [0.025  0.975]\n",
      "----------------------------------------------------------------\n",
      "indegree_norm   -3.6719   0.1243 -29.5325 0.0000 -3.9156 -3.4282\n",
      "================================================================\n",
      "\n",
      "                         Results: Logit\n",
      "================================================================\n",
      "Model:              Logit            No. Iterations:   6.0000   \n",
      "Dependent Variable: y                Pseudo R-squared: -0.191   \n",
      "Date:               2018-11-28 22:24 AIC:              7026.3917\n",
      "No. Observations:   5928             BIC:              7039.7666\n",
      "Df Model:           1                Log-Likelihood:   -3511.2  \n",
      "Df Residuals:       5926             LL-Null:          -2948.8  \n",
      "Converged:          1.0000           Scale:            1.0000   \n",
      "----------------------------------------------------------------\n",
      "                 Coef.  Std.Err.    z     P>|z|   [0.025  0.975]\n",
      "----------------------------------------------------------------\n",
      "indegree_norm   -3.7327   0.1272 -29.3447 0.0000 -3.9820 -3.4834\n",
      "downgrading      0.7470   0.2728   2.7387 0.0062  0.2124  1.2817\n",
      "================================================================\n",
      "\n",
      "                         Results: Logit\n",
      "================================================================\n",
      "Model:              Logit            No. Iterations:   6.0000   \n",
      "Dependent Variable: y                Pseudo R-squared: -0.186   \n",
      "Date:               2018-11-28 22:24 AIC:              7003.1807\n",
      "No. Observations:   5928             BIC:              7023.2430\n",
      "Df Model:           2                Log-Likelihood:   -3498.6  \n",
      "Df Residuals:       5925             LL-Null:          -2948.8  \n",
      "Converged:          1.0000           Scale:            1.0000   \n",
      "----------------------------------------------------------------\n",
      "                 Coef.  Std.Err.    z     P>|z|   [0.025  0.975]\n",
      "----------------------------------------------------------------\n",
      "indegree_norm   -3.5477   0.1313 -27.0303 0.0000 -3.8050 -3.2905\n",
      "downgrading      0.3904   0.2861   1.3647 0.1723 -0.1703  0.9511\n",
      "slope_indegree  -5.0551   1.0271  -4.9217 0.0000 -7.0682 -3.0420\n",
      "================================================================\n",
      "\n"
     ]
    }
   ],
   "source": [
    "print(results1.summary2())\n",
    "print(results2.summary2())\n",
    "print(results3.summary2())"
   ]
  }
 ],
 "metadata": {
  "kernelspec": {
   "display_name": "Python 3",
   "language": "python",
   "name": "python3"
  },
  "language_info": {
   "codemirror_mode": {
    "name": "ipython",
    "version": 3
   },
   "file_extension": ".py",
   "mimetype": "text/x-python",
   "name": "python",
   "nbconvert_exporter": "python",
   "pygments_lexer": "ipython3",
   "version": "3.6.6"
  }
 },
 "nbformat": 4,
 "nbformat_minor": 2
}
