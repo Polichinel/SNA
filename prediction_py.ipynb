{
 "cells": [
  {
   "cell_type": "code",
   "execution_count": 1,
   "metadata": {},
   "outputs": [],
   "source": [
    "import numpy as np\n",
    "import pandas as pd\n",
    "import time\n",
    "\n",
    "import matplotlib.pyplot as plt\n",
    "import seaborn as sns\n",
    "\n",
    "from mlxtend.feature_selection import SequentialFeatureSelector as sfs\n",
    "from mlxtend.plotting import plot_sequential_feature_selection as plot_sfs\n",
    "from sklearn import linear_model\n",
    "\n",
    "from imblearn.under_sampling import RandomUnderSampler"
   ]
  },
  {
   "cell_type": "code",
   "execution_count": 2,
   "metadata": {},
   "outputs": [],
   "source": [
    "def my_import():\n",
    "    \n",
    "    # Still including terror attacks...\n",
    "    \n",
    "    df = pd.read_csv(\"interpolated_df.csv\", index_col= 0)\n",
    "\n",
    "    ucdp = pd.read_csv(\"/home/polichinel/Dropbox/KU/9.semester/friopgave/data/upsala/ged181.csv\")# the error is not importent as you do not use that feature \n",
    "    ucdp =  ucdp[ucdp['gwnob'].isna()] # only conflicts NOT between to stats\n",
    "\n",
    "    ucdp_agg = ucdp.groupby(by = ['country_id','year'])[['best']].sum().reset_index()\n",
    "\n",
    "    cow = pd.read_csv(\"COW country codes.csv\")\n",
    "    cow.rename(columns={'CCode' : 'country_id', 'StateAbb' : 'country'}, inplace = True)\n",
    "    \n",
    "    # CCode and country_id should correspond but check GW 2013!\n",
    "\n",
    "    cow_ucdp_agg = cow.merge(ucdp_agg, on = 'country_id', how = 'outer')\n",
    "\n",
    "    cow = pd.read_csv(\"COW country codes.csv\")\n",
    "    cow.rename(columns={'CCode' : 'country_id', 'StateAbb' : 'country'}, inplace = True)\n",
    "\n",
    "    cow_ucdp_agg = cow.merge(ucdp_agg, on = 'country_id', how = 'outer')\n",
    "\n",
    "    df_cow_ucdp_agg = df.merge(cow_ucdp_agg, on = ['country', 'year'], how = 'left')\n",
    "    df_cow_ucdp_agg['best'].fillna(0,inplace = True)\n",
    "    \n",
    "    df_cow_ucdp_agg_lean = df_cow_ucdp_agg[['best','indegree_norm','outdegree_norm','degree_norm','center','downgrading','slope_indegree','slope_outdegree']]\n",
    "    \n",
    "    return(df_cow_ucdp_agg_lean)"
   ]
  },
  {
   "cell_type": "code",
   "execution_count": 3,
   "metadata": {},
   "outputs": [
    {
     "name": "stderr",
     "output_type": "stream",
     "text": [
      "/home/polichinel/anaconda3/lib/python3.6/site-packages/IPython/core/interactiveshell.py:2802: DtypeWarning: Columns (9) have mixed types. Specify dtype option on import or set low_memory=False.\n",
      "  if self.run_code(code, result):\n"
     ]
    }
   ],
   "source": [
    "df = my_import()"
   ]
  },
  {
   "cell_type": "code",
   "execution_count": 4,
   "metadata": {},
   "outputs": [
    {
     "data": {
      "text/plain": [
       "(8101, 8)"
      ]
     },
     "execution_count": 4,
     "metadata": {},
     "output_type": "execute_result"
    }
   ],
   "source": [
    "df.shape"
   ]
  },
  {
   "cell_type": "code",
   "execution_count": 5,
   "metadata": {},
   "outputs": [
    {
     "data": {
      "text/plain": [
       "(5928, 8)"
      ]
     },
     "execution_count": 5,
     "metadata": {},
     "output_type": "execute_result"
    }
   ],
   "source": [
    "df.dropna().shape # that is still a lot!"
   ]
  },
  {
   "cell_type": "code",
   "execution_count": 6,
   "metadata": {},
   "outputs": [],
   "source": [
    "df.dropna(inplace = True)\n",
    "\n",
    "#y = df['best'].copy()\n",
    "\n",
    "y = np.array(df['best'] > 0).astype('int') # y_dum\n",
    "X = df[['indegree_norm','outdegree_norm','degree_norm','center','downgrading','slope_indegree','slope_outdegree']]\n",
    "\n",
    "#X_resampled, y_resampled = RandomUnderSampler(random_state=42).fit_sample(X,y)\n",
    "\n",
    "# Du skal nok ige havde lavet dig et test set..."
   ]
  },
  {
   "cell_type": "code",
   "execution_count": 7,
   "metadata": {},
   "outputs": [
    {
     "data": {
      "text/plain": [
       "array([0.19787449])"
      ]
     },
     "execution_count": 7,
     "metadata": {},
     "output_type": "execute_result"
    }
   ],
   "source": [
    "y.sum()/y.shape"
   ]
  },
  {
   "cell_type": "code",
   "execution_count": 8,
   "metadata": {},
   "outputs": [
    {
     "name": "stderr",
     "output_type": "stream",
     "text": [
      "[Parallel(n_jobs=6)]: Done   4 out of   7 | elapsed:    0.1s remaining:    0.1s\n",
      "[Parallel(n_jobs=6)]: Done   7 out of   7 | elapsed:    0.1s finished\n",
      "\n",
      "[2018-11-28 14:12:54] Features: 1/7 -- score: 0.6037025582894433[Parallel(n_jobs=6)]: Done   3 out of   6 | elapsed:    0.1s remaining:    0.1s\n",
      "[Parallel(n_jobs=6)]: Done   6 out of   6 | elapsed:    0.1s finished\n",
      "\n",
      "[2018-11-28 14:12:55] Features: 2/7 -- score: 0.6119966960822051[Parallel(n_jobs=5)]: Done   2 out of   5 | elapsed:    0.1s remaining:    0.1s\n",
      "[Parallel(n_jobs=5)]: Done   5 out of   5 | elapsed:    0.1s remaining:    0.0s\n",
      "[Parallel(n_jobs=5)]: Done   5 out of   5 | elapsed:    0.1s finished\n",
      "\n",
      "[2018-11-28 14:12:55] Features: 3/7 -- score: 0.6167633709905003[Parallel(n_jobs=4)]: Done   4 out of   4 | elapsed:    0.1s finished\n",
      "\n",
      "[2018-11-28 14:12:55] Features: 4/7 -- score: 0.6136558334189047[Parallel(n_jobs=3)]: Done   3 out of   3 | elapsed:    0.1s finished\n",
      "\n",
      "[2018-11-28 14:12:56] Features: 5/7 -- score: 0.5981752690337159"
     ]
    },
    {
     "name": "stdout",
     "output_type": "stream",
     "text": [
      "\n",
      "minutes it took: 0.02746743361155192\n",
      "\n"
     ]
    },
    {
     "name": "stderr",
     "output_type": "stream",
     "text": [
      "[Parallel(n_jobs=2)]: Done   2 out of   2 | elapsed:    0.1s finished\n",
      "\n",
      "[2018-11-28 14:12:56] Features: 6/7 -- score: 0.5879106553930368[Parallel(n_jobs=1)]: Done   1 out of   1 | elapsed:    0.1s remaining:    0.0s\n",
      "[Parallel(n_jobs=1)]: Done   1 out of   1 | elapsed:    0.1s finished\n",
      "\n",
      "[2018-11-28 14:12:56] Features: 7/7 -- score: 0.5206254306059662"
     ]
    }
   ],
   "source": [
    "time_start = time.time()\n",
    "\n",
    "sfs_f = sfs(estimator = linear_model.LogisticRegression(), k_features= 'best', forward = True, verbose = 2, scoring = 'roc_auc', cv = 5, n_jobs = 6)\n",
    "\n",
    "sfs_f = sfs_f.fit(X,y)\n",
    "\n",
    "\n",
    "time_stop = time.time()\n",
    "time_to_finish = time_stop - time_start\n",
    "\n",
    "print('\\nminutes it took: {}\\n'. format(time_to_finish/60))\n"
   ]
  },
  {
   "cell_type": "code",
   "execution_count": 9,
   "metadata": {},
   "outputs": [],
   "source": [
    "\n",
    "def first_best(selector = sfs_f):\n",
    "\n",
    "    result = 0\n",
    "\n",
    "    for i in np.arange(1,len(selector.k_feature_idx_)+1):\n",
    "\n",
    "        if selector.get_metric_dict()[i]['avg_score'] > result:\n",
    "\n",
    "            result = selector.get_metric_dict()[i]['avg_score']\n",
    "            feature_index = selector.get_metric_dict()[i]['feature_idx']\n",
    "            feature_names = selector.get_metric_dict()[i]['feature_names']\n",
    "            n_features = len(feature_index)\n",
    "\n",
    "        else:\n",
    "            break\n",
    "     \n",
    "    return([n_features,result,feature_index,feature_names])"
   ]
  },
  {
   "cell_type": "code",
   "execution_count": 10,
   "metadata": {},
   "outputs": [
    {
     "data": {
      "text/plain": [
       "[3,\n",
       " 0.6167633709905003,\n",
       " (2, 4, 6),\n",
       " ('degree_norm', 'downgrading', 'slope_outdegree')]"
      ]
     },
     "execution_count": 10,
     "metadata": {},
     "output_type": "execute_result"
    }
   ],
   "source": [
    "best_set = first_best()\n",
    "best_set"
   ]
  },
  {
   "cell_type": "code",
   "execution_count": 11,
   "metadata": {},
   "outputs": [
    {
     "data": {
      "text/plain": [
       "<Figure size 360x1080 with 0 Axes>"
      ]
     },
     "metadata": {},
     "output_type": "display_data"
    },
    {
     "data": {
      "image/png": "[encoded data removed]",
      "text/plain": [
       "<Figure size 432x288 with 1 Axes>"
      ]
     },
     "metadata": {},
     "output_type": "display_data"
    }
   ],
   "source": [
    "plot_sfs(sfs_f.get_metric_dict(), kind='std_dev')\n",
    "plt.vlines(best_set[0], 0, 1, 'red', 'dashed', alpha = 0.5)\n",
    "\n",
    "\n",
    "plt.show()"
   ]
  },
  {
   "cell_type": "code",
   "execution_count": null,
   "metadata": {},
   "outputs": [],
   "source": []
  }
 ],
 "metadata": {
  "kernelspec": {
   "display_name": "Python 3",
   "language": "python",
   "name": "python3"
  },
  "language_info": {
   "codemirror_mode": {
    "name": "ipython",
    "version": 3
   },
   "file_extension": ".py",
   "mimetype": "text/x-python",
   "name": "python",
   "nbconvert_exporter": "python",
   "pygments_lexer": "ipython3",
   "version": "3.6.6"
  }
 },
 "nbformat": 4,
 "nbformat_minor": 2
}
