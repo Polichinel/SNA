{
 "cells": [
  {
   "cell_type": "code",
   "execution_count": 22,
   "metadata": {},
   "outputs": [],
   "source": [
    "import numpy as np\n",
    "import pandas as pd\n",
    "import time\n",
    "\n",
    "import matplotlib.pyplot as plt\n",
    "import seaborn as sns\n",
    "\n",
    "from mlxtend.feature_selection import SequentialFeatureSelector as sfs\n",
    "from mlxtend.plotting import plot_sequential_feature_selection as plot_sfs\n",
    "from sklearn import linear_model\n",
    "from sklearn import ensemble\n",
    "from sklearn import naive_bayes\n",
    "\n",
    "from imblearn.under_sampling import RandomUnderSampler"
   ]
  },
  {
   "cell_type": "code",
   "execution_count": 2,
   "metadata": {},
   "outputs": [],
   "source": [
    "def my_import():\n",
    "    \n",
    "    # Still including terror attacks...\n",
    "    \n",
    "    df = pd.read_csv(\"interpolated_df.csv\", index_col= 0)\n",
    "\n",
    "    ucdp = pd.read_csv(\"/home/polichinel/Dropbox/KU/9.semester/friopgave/data/upsala/ged181.csv\")# the error is not importent as you do not use that feature \n",
    "    ucdp =  ucdp[ucdp['gwnob'].isna()] # only conflicts NOT between to stats\n",
    "\n",
    "    ucdp_agg = ucdp.groupby(by = ['country_id','year'])[['best']].sum().reset_index()\n",
    "\n",
    "    cow = pd.read_csv(\"COW country codes.csv\")\n",
    "    cow.rename(columns={'CCode' : 'country_id', 'StateAbb' : 'country'}, inplace = True)\n",
    "    \n",
    "    # CCode and country_id should correspond but check GW 2013!\n",
    "\n",
    "    cow_ucdp_agg = cow.merge(ucdp_agg, on = 'country_id', how = 'outer')\n",
    "\n",
    "    cow = pd.read_csv(\"COW country codes.csv\")\n",
    "    cow.rename(columns={'CCode' : 'country_id', 'StateAbb' : 'country'}, inplace = True)\n",
    "\n",
    "    cow_ucdp_agg = cow.merge(ucdp_agg, on = 'country_id', how = 'outer')\n",
    "\n",
    "    df_cow_ucdp_agg = df.merge(cow_ucdp_agg, on = ['country', 'year'], how = 'left')\n",
    "    df_cow_ucdp_agg['best'].fillna(0,inplace = True)\n",
    "    \n",
    "    df_cow_ucdp_agg_lean = df_cow_ucdp_agg[['best','indegree_norm','outdegree_norm','degree_norm','center','downgrading','slope_indegree','slope_outdegree']]\n",
    "    \n",
    "    return(df_cow_ucdp_agg_lean)"
   ]
  },
  {
   "cell_type": "code",
   "execution_count": 3,
   "metadata": {},
   "outputs": [
    {
     "name": "stderr",
     "output_type": "stream",
     "text": [
      "/home/polichinel/anaconda3/lib/python3.6/site-packages/IPython/core/interactiveshell.py:2802: DtypeWarning: Columns (9) have mixed types. Specify dtype option on import or set low_memory=False.\n",
      "  if self.run_code(code, result):\n"
     ]
    }
   ],
   "source": [
    "df = my_import()"
   ]
  },
  {
   "cell_type": "code",
   "execution_count": 4,
   "metadata": {},
   "outputs": [
    {
     "data": {
      "text/plain": [
       "(8101, 8)"
      ]
     },
     "execution_count": 4,
     "metadata": {},
     "output_type": "execute_result"
    }
   ],
   "source": [
    "df.shape"
   ]
  },
  {
   "cell_type": "code",
   "execution_count": 5,
   "metadata": {},
   "outputs": [
    {
     "data": {
      "text/plain": [
       "(5928, 8)"
      ]
     },
     "execution_count": 5,
     "metadata": {},
     "output_type": "execute_result"
    }
   ],
   "source": [
    "df.dropna().shape # Why? Where?"
   ]
  },
  {
   "cell_type": "code",
   "execution_count": 6,
   "metadata": {},
   "outputs": [],
   "source": [
    "df.dropna(inplace = True)\n",
    "\n",
    "#y = df['best'].copy()\n",
    "\n",
    "y = np.array(df['best'] > 0).astype('int') # y_dum\n",
    "X = df[['indegree_norm','outdegree_norm','degree_norm','center','downgrading','slope_indegree','slope_outdegree']]\n",
    "\n",
    "#X_resampled, y_resampled = RandomUnderSampler(random_state=42).fit_sample(X,y)\n",
    "\n",
    "# Du skal nok ige havde lavet dig et test set..."
   ]
  },
  {
   "cell_type": "code",
   "execution_count": 7,
   "metadata": {},
   "outputs": [
    {
     "data": {
      "text/plain": [
       "array([0.19787449])"
      ]
     },
     "execution_count": 7,
     "metadata": {},
     "output_type": "execute_result"
    }
   ],
   "source": [
    "y.sum()/y.shape"
   ]
  },
  {
   "cell_type": "code",
   "execution_count": 42,
   "metadata": {},
   "outputs": [
    {
     "name": "stderr",
     "output_type": "stream",
     "text": [
      "[Parallel(n_jobs=6)]: Done   4 out of   7 | elapsed:    0.1s remaining:    0.1s\n",
      "[Parallel(n_jobs=6)]: Done   7 out of   7 | elapsed:    0.2s finished\n",
      "\n",
      "[2018-11-28 14:20:39] Features: 1/7 -- score: 0.6036502587379562[Parallel(n_jobs=6)]: Done   3 out of   6 | elapsed:    0.2s remaining:    0.2s\n",
      "[Parallel(n_jobs=6)]: Done   6 out of   6 | elapsed:    0.2s finished\n",
      "\n",
      "[2018-11-28 14:20:40] Features: 2/7 -- score: 0.6152940922429038[Parallel(n_jobs=5)]: Done   2 out of   5 | elapsed:    0.2s remaining:    0.2s\n",
      "[Parallel(n_jobs=5)]: Done   5 out of   5 | elapsed:    0.2s remaining:    0.0s\n",
      "[Parallel(n_jobs=5)]: Done   5 out of   5 | elapsed:    0.2s finished\n",
      "\n",
      "[2018-11-28 14:20:40] Features: 3/7 -- score: 0.6189433705502604[Parallel(n_jobs=4)]: Done   4 out of   4 | elapsed:    0.2s finished\n",
      "\n",
      "[2018-11-28 14:20:40] Features: 4/7 -- score: 0.6172890464747394[Parallel(n_jobs=3)]: Done   3 out of   3 | elapsed:    0.1s finished\n",
      "\n",
      "[2018-11-28 14:20:41] Features: 5/7 -- score: 0.6060917199561268"
     ]
    },
    {
     "name": "stdout",
     "output_type": "stream",
     "text": [
      "\n",
      "minutes it took: 0.033361907800038657\n",
      "\n"
     ]
    },
    {
     "name": "stderr",
     "output_type": "stream",
     "text": [
      "[Parallel(n_jobs=2)]: Done   2 out of   2 | elapsed:    0.1s finished\n",
      "\n",
      "[2018-11-28 14:20:41] Features: 6/7 -- score: 0.5998518334527937[Parallel(n_jobs=1)]: Done   1 out of   1 | elapsed:    0.1s remaining:    0.0s\n",
      "[Parallel(n_jobs=1)]: Done   1 out of   1 | elapsed:    0.1s finished\n",
      "\n",
      "[2018-11-28 14:20:41] Features: 7/7 -- score: 0.5273819274135694"
     ]
    }
   ],
   "source": [
    "time_start = time.time()\n",
    "\n",
    "sfs_f = sfs(estimator = linear_model.LogisticRegression(), k_features= 'best', forward = True, verbose = 2, scoring = 'roc_auc', cv = 10, n_jobs = 6)\n",
    "\n",
    "sfs_f = sfs_f.fit(X,y)\n",
    "\n",
    "\n",
    "time_stop = time.time()\n",
    "time_to_finish = time_stop - time_start\n",
    "\n",
    "print('\\nminutes it took: {}\\n'. format(time_to_finish/60))\n"
   ]
  },
  {
   "cell_type": "code",
   "execution_count": 43,
   "metadata": {},
   "outputs": [],
   "source": [
    "\n",
    "def first_best(selector = sfs_f):\n",
    "\n",
    "    result = 0\n",
    "\n",
    "    for i in np.arange(1,len(selector.k_feature_idx_)+1):\n",
    "\n",
    "        if selector.get_metric_dict()[i]['avg_score'] > result:\n",
    "\n",
    "            result = selector.get_metric_dict()[i]['avg_score']\n",
    "            feature_index = selector.get_metric_dict()[i]['feature_idx']\n",
    "            feature_names = selector.get_metric_dict()[i]['feature_names']\n",
    "            n_features = len(feature_index)\n",
    "\n",
    "        else:\n",
    "            break\n",
    "     \n",
    "    return([n_features,result,feature_index,feature_names])"
   ]
  },
  {
   "cell_type": "code",
   "execution_count": 44,
   "metadata": {},
   "outputs": [
    {
     "data": {
      "text/plain": [
       "[3,\n",
       " 0.6189433705502604,\n",
       " (0, 4, 5),\n",
       " ('indegree_norm', 'downgrading', 'slope_indegree')]"
      ]
     },
     "execution_count": 44,
     "metadata": {},
     "output_type": "execute_result"
    }
   ],
   "source": [
    "best_set = first_best()\n",
    "best_set"
   ]
  },
  {
   "cell_type": "code",
   "execution_count": 45,
   "metadata": {},
   "outputs": [
    {
     "data": {
      "image/png": "[encoded data removed]",
      "text/plain": [
       "<Figure size 432x288 with 1 Axes>"
      ]
     },
     "metadata": {},
     "output_type": "display_data"
    }
   ],
   "source": [
    "plot_sfs(sfs_f.get_metric_dict(), kind='std_dev')\n",
    "plt.vlines(best_set[0], 0, 1, 'red', 'dashed', alpha = 0.5)\n",
    "\n",
    "\n",
    "plt.show()"
   ]
  },
  {
   "cell_type": "markdown",
   "metadata": {},
   "source": [
    "# you compare to GDP per capita?"
   ]
  },
  {
   "cell_type": "code",
   "execution_count": 46,
   "metadata": {},
   "outputs": [
    {
     "data": {
      "text/plain": [
       "{1: {'avg_score': 0.6036502587379562,\n",
       "  'ci_bound': 0.1359417818782211,\n",
       "  'cv_scores': array([0.58423836, 0.71005733, 0.20115546, 0.39974323, 0.47689076,\n",
       "         0.78022492, 0.68426451, 0.64969861, 0.82546109, 0.72476833]),\n",
       "  'feature_idx': (0,),\n",
       "  'feature_names': ('indegree_norm',),\n",
       "  'std_dev': 0.18303408033795227,\n",
       "  'std_err': 0.06101136011265075},\n",
       " 2: {'avg_score': 0.6152940922429038,\n",
       "  'ci_bound': 0.12477863782051132,\n",
       "  'cv_scores': array([0.60484618, 0.73421699, 0.22481662, 0.44000934, 0.53800366,\n",
       "         0.64978857, 0.70243815, 0.67712101, 0.83872245, 0.74297796]),\n",
       "  'feature_idx': (0, 5),\n",
       "  'feature_names': ('indegree_norm', 'slope_indegree'),\n",
       "  'std_dev': 0.16800385358902417,\n",
       "  'std_err': 0.056001284529674726},\n",
       " 3: {'avg_score': 0.6189433705502604,\n",
       "  'ci_bound': 0.12861814506558394,\n",
       "  'cv_scores': array([0.60246048, 0.75869712, 0.22013424, 0.44015298, 0.53434066,\n",
       "         0.64179937, 0.71364822, 0.67845254, 0.84116959, 0.7585785 ]),\n",
       "  'feature_idx': (0, 4, 5),\n",
       "  'feature_names': ('indegree_norm', 'downgrading', 'slope_indegree'),\n",
       "  'std_dev': 0.17317342447328932,\n",
       "  'std_err': 0.057724474824429765},\n",
       " 4: {'avg_score': 0.6172890464747394,\n",
       "  'ci_bound': 0.11878615777857426,\n",
       "  'cv_scores': array([0.62624626, 0.75044509, 0.23781335, 0.45781261, 0.55681247,\n",
       "         0.61639226, 0.70100765, 0.68201529, 0.82562303, 0.71872245]),\n",
       "  'feature_idx': (0, 4, 5, 6),\n",
       "  'feature_names': ('indegree_norm',\n",
       "   'downgrading',\n",
       "   'slope_indegree',\n",
       "   'slope_outdegree'),\n",
       "  'std_dev': 0.15993548742326333,\n",
       "  'std_err': 0.05331182914108777},\n",
       " 5: {'avg_score': 0.6060917199561268,\n",
       "  'ci_bound': 0.11943450559399497,\n",
       "  'cv_scores': array([0.62603262, 0.73876585, 0.209906  , 0.45550528, 0.55070746,\n",
       "         0.61707602, 0.6805578 , 0.66977958, 0.79530364, 0.71728295]),\n",
       "  'feature_idx': (0, 2, 4, 5, 6),\n",
       "  'feature_names': ('indegree_norm',\n",
       "   'degree_norm',\n",
       "   'downgrading',\n",
       "   'slope_indegree',\n",
       "   'slope_outdegree'),\n",
       "  'std_dev': 0.160808432771596,\n",
       "  'std_err': 0.05360281092386533},\n",
       " 6: {'avg_score': 0.5998518334527937,\n",
       "  'ci_bound': 0.11657735241325161,\n",
       "  'cv_scores': array([0.62482196, 0.73326449, 0.20741347, 0.45568484, 0.55288013,\n",
       "         0.61596041, 0.66074674, 0.65704004, 0.77151597, 0.71919028]),\n",
       "  'feature_idx': (0, 1, 2, 4, 5, 6),\n",
       "  'feature_names': ('indegree_norm',\n",
       "   'outdegree_norm',\n",
       "   'degree_norm',\n",
       "   'downgrading',\n",
       "   'slope_indegree',\n",
       "   'slope_outdegree'),\n",
       "  'std_dev': 0.1569615183233913,\n",
       "  'std_err': 0.05232050610779711},\n",
       " 7: {'avg_score': 0.5273819274135694,\n",
       "  'ci_bound': 0.11391241345608476,\n",
       "  'cv_scores': array([0.53094289, 0.68651189, 0.20766273, 0.44286433, 0.55200029,\n",
       "         0.63967611, 0.51512371, 0.6251372 , 0.34018893, 0.7337112 ]),\n",
       "  'feature_idx': (0, 1, 2, 3, 4, 5, 6),\n",
       "  'feature_names': ('indegree_norm',\n",
       "   'outdegree_norm',\n",
       "   'degree_norm',\n",
       "   'center',\n",
       "   'downgrading',\n",
       "   'slope_indegree',\n",
       "   'slope_outdegree'),\n",
       "  'std_dev': 0.15337340402591382,\n",
       "  'std_err': 0.05112446800863794}}"
      ]
     },
     "execution_count": 46,
     "metadata": {},
     "output_type": "execute_result"
    }
   ],
   "source": [
    "sfs_f.get_metric_dict()"
   ]
  },
  {
   "cell_type": "code",
   "execution_count": null,
   "metadata": {},
   "outputs": [],
   "source": []
  },
  {
   "cell_type": "code",
   "execution_count": null,
   "metadata": {},
   "outputs": [],
   "source": []
  },
  {
   "cell_type": "code",
   "execution_count": null,
   "metadata": {},
   "outputs": [],
   "source": []
  }
 ],
 "metadata": {
  "kernelspec": {
   "display_name": "Python 3",
   "language": "python",
   "name": "python3"
  },
  "language_info": {
   "codemirror_mode": {
    "name": "ipython",
    "version": 3
   },
   "file_extension": ".py",
   "mimetype": "text/x-python",
   "name": "python",
   "nbconvert_exporter": "python",
   "pygments_lexer": "ipython3",
   "version": "3.6.6"
  }
 },
 "nbformat": 4,
 "nbformat_minor": 2
}
