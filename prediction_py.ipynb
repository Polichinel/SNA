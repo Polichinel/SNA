{
 "cells": [
  {
   "cell_type": "code",
   "execution_count": 1,
   "metadata": {},
   "outputs": [],
   "source": [
    "import numpy as np\n",
    "import pandas as pd\n",
    "import time\n",
    "\n",
    "import matplotlib.pyplot as plt\n",
    "import seaborn as sns\n",
    "\n",
    "from mlxtend.feature_selection import SequentialFeatureSelector as sfs\n",
    "from mlxtend.plotting import plot_sequential_feature_selection as plot_sfs\n",
    "from sklearn import linear_model\n",
    "from sklearn import ensemble\n",
    "from sklearn import naive_bayes\n",
    "\n",
    "import pickle\n",
    "\n",
    "import psis\n",
    "import stan_utility\n",
    "import pystan\n",
    "\n",
    "import statsmodels.formula.api as smf\n",
    "\n",
    "from imblearn.under_sampling import RandomUnderSampler"
   ]
  },
  {
   "cell_type": "code",
   "execution_count": 2,
   "metadata": {},
   "outputs": [],
   "source": [
    "def my_import():\n",
    "    \n",
    "    # Still including terror attacks...\n",
    "    df = pd.read_csv(\"interpolated_df.csv\", index_col= 0)\n",
    "\n",
    "    ucdp = pd.read_csv(\"/home/polichinel/Dropbox/KU/9.semester/friopgave/data/upsala/ged181.csv\")# the error is not importent as you do not use that feature \n",
    "    ucdp =  ucdp[ucdp['gwnob'].isna()] # only conflicts NOT between to stats\n",
    "    ucdp_agg = ucdp.groupby(by = ['country_id','year'])[['best']].sum().reset_index()\n",
    "\n",
    "    cow = pd.read_csv(\"COW country codes.csv\")\n",
    "    cow.rename(columns={'CCode' : 'country_id', 'StateAbb' : 'country'}, inplace = True)\n",
    "\n",
    "    df.fillna(method = 'ffill', inplace = True)\n",
    "    df.fillna(method = 'bfill', inplace = True)\n",
    "\n",
    "    df_cow = df.merge(cow, on = ['country'], how = 'inner') # men hvordan kommer der flere?\n",
    "    df_cow_ucdp_agg = df_cow.merge(ucdp_agg, on = ['country_id', 'year'], how = 'left')\n",
    "\n",
    "    df_cow_ucdp_agg['best'].fillna(0, inplace = True)\n",
    "    df_cow_ucdp_agg_lean = df_cow_ucdp_agg[['best','indegree_norm','outdegree_norm','degree_norm','center','downgrading','slope_indegree','slope_outdegree','slope_degree', 'year','country_id']]\n",
    "    \n",
    "    #tests:\n",
    "    \n",
    "#     net_set = set(df['country'].unique())\n",
    "#     cow_set = set(cow['country'].unique())\n",
    "\n",
    "#     print(set.difference(net_set,cow_set)) # nice!\n",
    "    \n",
    "#     ucdp_agg_set = set(ucdp_agg['country_id'].unique())\n",
    "#     df_cow_set = set(df_cow['country_id'].unique())\n",
    "\n",
    "#     print(set.difference(ucdp_agg_set,df_cow_set)) # south sudan.. fuk it.\n",
    "    \n",
    "    \n",
    "    return(df_cow_ucdp_agg_lean)"
   ]
  },
  {
   "cell_type": "code",
   "execution_count": 3,
   "metadata": {},
   "outputs": [
    {
     "name": "stderr",
     "output_type": "stream",
     "text": [
      "/home/polichinel/anaconda3/lib/python3.6/site-packages/IPython/core/interactiveshell.py:2802: DtypeWarning: Columns (9) have mixed types. Specify dtype option on import or set low_memory=False.\n",
      "  if self.run_code(code, result):\n"
     ]
    },
    {
     "data": {
      "text/plain": [
       "Index(['best', 'indegree_norm', 'outdegree_norm', 'degree_norm', 'center',\n",
       "       'downgrading', 'slope_indegree', 'slope_outdegree', 'slope_degree',\n",
       "       'year', 'country_id', 'binary_best', 'lead_binary_best',\n",
       "       'year_indicator_all'],\n",
       "      dtype='object')"
      ]
     },
     "execution_count": 3,
     "metadata": {},
     "output_type": "execute_result"
    }
   ],
   "source": [
    "df = my_import()\n",
    "\n",
    "df['binary_best'] = np.array(df['best'] > 0).astype('int')\n",
    "df['lead_binary_best'] = df.sort_values('year').groupby(['country_id'])['binary_best'].shift(-1)\n",
    "df.dropna(inplace = True) # due to the leading\n",
    "\n",
    "df[\"year_indicator_all\"] = pd.get_dummies(df['year']).values.argmax(1)+1\n",
    "\n",
    "df.columns"
   ]
  },
  {
   "cell_type": "code",
   "execution_count": 4,
   "metadata": {},
   "outputs": [
    {
     "data": {
      "text/plain": [
       "array([0.13642488])"
      ]
     },
     "execution_count": 4,
     "metadata": {},
     "output_type": "execute_result"
    }
   ],
   "source": [
    "df['lead_binary_best'].sum()/df['lead_binary_best'].shape"
   ]
  },
  {
   "cell_type": "code",
   "execution_count": 5,
   "metadata": {},
   "outputs": [],
   "source": [
    "#df = df.sample(1000)"
   ]
  },
  {
   "cell_type": "code",
   "execution_count": 6,
   "metadata": {},
   "outputs": [
    {
     "name": "stderr",
     "output_type": "stream",
     "text": [
      "[Parallel(n_jobs=6)]: Done   2 out of   8 | elapsed:    0.2s remaining:    0.6s\n",
      "[Parallel(n_jobs=6)]: Done   8 out of   8 | elapsed:    0.3s finished\n",
      "\n",
      "[2018-11-30 14:46:36] Features: 1/8 -- score: 0.5945482943274605[Parallel(n_jobs=6)]: Done   4 out of   7 | elapsed:    0.3s remaining:    0.2s\n",
      "[Parallel(n_jobs=6)]: Done   7 out of   7 | elapsed:    0.8s finished\n",
      "\n",
      "[2018-11-30 14:46:37] Features: 2/8 -- score: 0.619529647986079[Parallel(n_jobs=6)]: Done   3 out of   6 | elapsed:    0.9s remaining:    0.9s\n",
      "[Parallel(n_jobs=6)]: Done   6 out of   6 | elapsed:    1.0s finished\n",
      "\n",
      "[2018-11-30 14:46:39] Features: 3/8 -- score: 0.6199941427451171[Parallel(n_jobs=5)]: Done   2 out of   5 | elapsed:    0.9s remaining:    1.3s\n",
      "[Parallel(n_jobs=5)]: Done   5 out of   5 | elapsed:    1.0s remaining:    0.0s\n",
      "[Parallel(n_jobs=5)]: Done   5 out of   5 | elapsed:    1.0s finished\n",
      "\n",
      "[2018-11-30 14:46:40] Features: 4/8 -- score: 0.6198715346599257[Parallel(n_jobs=4)]: Done   4 out of   4 | elapsed:    0.2s finished\n",
      "\n",
      "[2018-11-30 14:46:40] Features: 5/8 -- score: 0.6175088868716474[Parallel(n_jobs=3)]: Done   3 out of   3 | elapsed:    0.3s finished\n",
      "\n",
      "[2018-11-30 14:46:41] Features: 6/8 -- score: 0.601899227228443[Parallel(n_jobs=2)]: Done   2 out of   2 | elapsed:    0.2s finished\n",
      "\n",
      "[2018-11-30 14:46:41] Features: 7/8 -- score: 0.5960482971085996"
     ]
    },
    {
     "name": "stdout",
     "output_type": "stream",
     "text": [
      "\n",
      "minutes it took: 0.0945188323656718\n",
      "\n"
     ]
    },
    {
     "name": "stderr",
     "output_type": "stream",
     "text": [
      "[Parallel(n_jobs=1)]: Done   1 out of   1 | elapsed:    0.2s remaining:    0.0s\n",
      "[Parallel(n_jobs=1)]: Done   1 out of   1 | elapsed:    0.2s finished\n",
      "\n",
      "[2018-11-30 14:46:41] Features: 8/8 -- score: 0.540703820451882"
     ]
    }
   ],
   "source": [
    "\n",
    "#def forward_fs(df=df):\n",
    "\n",
    "X = df[['indegree_norm', 'outdegree_norm', 'degree_norm', 'center','downgrading', 'slope_indegree', 'slope_outdegree', 'slope_degree']]\n",
    "y = df['lead_binary_best']\n",
    "\n",
    "\n",
    "time_start = time.time()\n",
    "\n",
    "sfs_f = sfs(estimator = linear_model.LogisticRegression(), k_features= 'best', forward = True, verbose = 2, scoring = 'roc_auc', cv = 10, n_jobs = 6)\n",
    "\n",
    "sfs_f = sfs_f.fit(X,y)\n",
    "\n",
    "\n",
    "time_stop = time.time()\n",
    "time_to_finish = time_stop - time_start\n",
    "\n",
    "print('\\nminutes it took: {}\\n'. format(time_to_finish/60))\n",
    "\n",
    "    #return(sfs_f)\n"
   ]
  },
  {
   "cell_type": "code",
   "execution_count": 7,
   "metadata": {},
   "outputs": [],
   "source": [
    "# sfs_f = forward_fs()"
   ]
  },
  {
   "cell_type": "code",
   "execution_count": 8,
   "metadata": {},
   "outputs": [],
   "source": [
    "\n",
    "def first_best(selector = sfs_f):\n",
    "\n",
    "    result = 0\n",
    "\n",
    "    for i in np.arange(1,len(selector.k_feature_idx_)+1):\n",
    "\n",
    "        if selector.get_metric_dict()[i]['avg_score'] > result:\n",
    "\n",
    "            result = selector.get_metric_dict()[i]['avg_score']\n",
    "            feature_index = selector.get_metric_dict()[i]['feature_idx']\n",
    "            feature_names = selector.get_metric_dict()[i]['feature_names']\n",
    "            n_features = len(feature_index)\n",
    "\n",
    "        else:\n",
    "            break\n",
    "     \n",
    "    return([n_features,result,feature_index,feature_names])"
   ]
  },
  {
   "cell_type": "code",
   "execution_count": 9,
   "metadata": {},
   "outputs": [
    {
     "data": {
      "text/plain": [
       "[3,\n",
       " 0.6199941427451171,\n",
       " (0, 4, 7),\n",
       " ('indegree_norm', 'downgrading', 'slope_degree')]"
      ]
     },
     "execution_count": 9,
     "metadata": {},
     "output_type": "execute_result"
    }
   ],
   "source": [
    "best_set = first_best()\n",
    "best_set"
   ]
  },
  {
   "cell_type": "code",
   "execution_count": 10,
   "metadata": {},
   "outputs": [],
   "source": [
    "# # Hvis du skal bruge det skal du lave dit eget plt...\n",
    "# plot_sfs(sfs_f.get_metric_dict(), kind='std_dev')\n",
    "# plt.vlines(best_set[0], 0, 1, 'red', 'dashed', alpha = 0.5)\n",
    "\n",
    "\n",
    "# plt.show()"
   ]
  },
  {
   "cell_type": "code",
   "execution_count": 11,
   "metadata": {},
   "outputs": [
    {
     "data": {
      "image/png": "[encoded data removed]",
      "text/plain": [
       "<Figure size 1080x360 with 1 Axes>"
      ]
     },
     "metadata": {},
     "output_type": "display_data"
    }
   ],
   "source": [
    "def plot_seq_fs():\n",
    "\n",
    "    list_of_means = []\n",
    "    list_of_std_dev = []\n",
    "    list_of_n = []\n",
    "\n",
    "    for i in np.arange(1,len(sfs_f.get_metric_dict())+1):\n",
    "\n",
    "        list_of_means.append(sfs_f.get_metric_dict()[i]['cv_scores'].mean())\n",
    "        list_of_std_dev.append(sfs_f.get_metric_dict()[i]['std_dev']) # but why is it not 2*std_err?\n",
    "        list_of_n.append(i)\n",
    "\n",
    "    colors = sns.palettes.color_palette(palette = \"hls\", n_colors = 2)    \n",
    "\n",
    "    plt.figure(figsize=[15,5])    \n",
    "\n",
    "    x = np.array(list_of_n)\n",
    "    y = np.array(list_of_means)\n",
    "\n",
    "    y_upper = y + np.array(list_of_std_dev) # * 2) \n",
    "    y_lower = y - np.array(list_of_std_dev) #* 2)\n",
    "\n",
    "    plt.plot(x,y, '-o' ,color = colors[1])\n",
    "    #plt.plot(x, y_upper, x, y_lower, color=colors[1], alpha = 0.4)\n",
    "\n",
    "    plt.fill_between(x, y_lower, y_upper, color='lightgrey', alpha = 0.4, label = '95% Confidence Interval')\n",
    "\n",
    "    plt.vlines(best_set[0], 0, 1, colors[0], 'dashed', alpha = 0.8, label = 'Optimal N of Features')\n",
    "\n",
    "    plt.ylabel('Metric')\n",
    "    plt.xlabel('Number of Features')\n",
    "    plt.title('Sequential (Forward) Feature Selection')\n",
    "\n",
    "    sns.despine(left = True, bottom = True)\n",
    "    plt.legend(frameon = False)\n",
    "    plt.show()\n",
    "    \n",
    "plot_seq_fs()"
   ]
  },
  {
   "cell_type": "markdown",
   "metadata": {},
   "source": [
    "# A simple regression:\n",
    "\n",
    "# men du bruget jo heller ikke logit her!"
   ]
  },
  {
   "cell_type": "code",
   "execution_count": null,
   "metadata": {},
   "outputs": [],
   "source": [
    "df['country_area_sum'] = df.groupby(['gwno','year'])['landarea'].transform(np.sum) # this shit! Måske netop np.where herfra..\n"
   ]
  },
  {
   "cell_type": "code",
   "execution_count": null,
   "metadata": {},
   "outputs": [],
   "source": []
  },
  {
   "cell_type": "code",
   "execution_count": null,
   "metadata": {},
   "outputs": [],
   "source": []
  },
  {
   "cell_type": "code",
   "execution_count": 87,
   "metadata": {},
   "outputs": [],
   "source": [
    "df_demeaned = df.copy()\n",
    "df_demeaned['indegree_norm_country_mean'] = df_demeaned.groupby('country_id')['indegree_norm'].transform(np.mean)\n",
    "df_demeaned['indegree_norm_year_mean'] = df_demeaned.groupby('year')['indegree_norm'].transform(np.mean)\n",
    "\n",
    "df_demeaned['downgrading_country_mean'] = df_demeaned.groupby('country_id')['downgrading'].transform(np.mean)\n",
    "df_demeaned['downgrading_year_mean']  = df_demeaned.groupby('year')['downgrading'].transform(np.mean)\n",
    "            \n",
    "df_demeaned['slope_degree_country_mean']  = df_demeaned.groupby('country_id')['slope_degree'].transform(np.mean)\n",
    "df_demeaned['slope_degree_year_mean']  = df_demeaned.groupby('year')['slope_degree'].transform(np.mean)\n",
    "            \n",
    "df_demeaned['indegree_norm_demeaned'] =  df_demeaned['indegree_norm'] - (df_demeaned['indegree_norm_country_mean'] + df_demeaned['indegree_norm_year_mean'])\n",
    "df_demeaned['downgrading_demeaned'] = df_demeaned['downgrading'] - (df_demeaned['downgrading_country_mean'] + df_demeaned['downgrading_year_mean'] )\n",
    "df_demeaned['slope_degree_demean']  = df_demeaned['slope_degree'] - (df_demeaned['slope_degree_country_mean'] + df_demeaned['slope_degree_year_mean'])\n",
    "\n",
    "df_demeaned['intercept'] = 1"
   ]
  },
  {
   "cell_type": "code",
   "execution_count": 91,
   "metadata": {},
   "outputs": [],
   "source": [
    "y = df['lead_binary_best'].astype(int)\n",
    "\n",
    "x0 = df_demeaned[['intercept', 'indegree_norm_demeaned']].copy() \n",
    "x1 = df_demeaned[['intercept', 'downgrading_demeaned' ]].copy() \n",
    "x2 = df_demeaned[['intercept', 'slope_degree_demean']].copy() \n",
    "x3 = df_demeaned[['intercept', 'indegree_norm_demeaned', 'downgrading_demeaned' ,'slope_degree_demean']].copy() "
   ]
  },
  {
   "cell_type": "code",
   "execution_count": 92,
   "metadata": {},
   "outputs": [
    {
     "name": "stdout",
     "output_type": "stream",
     "text": [
      "Optimization terminated successfully.\n",
      "         Current function value: 0.398041\n",
      "         Iterations 6\n",
      "                            Results: Logit\n",
      "=======================================================================\n",
      "Model:                 Logit              No. Iterations:     6.0000   \n",
      "Dependent Variable:    lead_binary_best   Pseudo R-squared:   0.001    \n",
      "Date:                  2018-11-30 22:22   AIC:                7093.8980\n",
      "No. Observations:      8906               BIC:                7108.0870\n",
      "Df Model:              1                  Log-Likelihood:     -3544.9  \n",
      "Df Residuals:          8904               LL-Null:            -3548.3  \n",
      "Converged:             1.0000             Scale:              1.0000   \n",
      "-----------------------------------------------------------------------\n",
      "                        Coef.  Std.Err.    z     P>|z|   [0.025  0.975]\n",
      "-----------------------------------------------------------------------\n",
      "intercept              -2.1675   0.1290 -16.7998 0.0000 -2.4204 -1.9146\n",
      "indegree_norm_demeaned -1.4642   0.5652  -2.5907 0.0096 -2.5719 -0.3565\n",
      "=======================================================================\n",
      "\n"
     ]
    }
   ],
   "source": [
    "logit = smf.Logit(y,x0)\n",
    "logit_f = logit.fit()\n",
    "print(logit_f.summary2())"
   ]
  },
  {
   "cell_type": "code",
   "execution_count": 93,
   "metadata": {},
   "outputs": [
    {
     "name": "stdout",
     "output_type": "stream",
     "text": [
      "Optimization terminated successfully.\n",
      "         Current function value: 0.398350\n",
      "         Iterations 6\n",
      "                           Results: Logit\n",
      "=====================================================================\n",
      "Model:                 Logit             No. Iterations:    6.0000   \n",
      "Dependent Variable:    lead_binary_best  Pseudo R-squared:  0.000    \n",
      "Date:                  2018-11-30 22:22  AIC:               7099.4079\n",
      "No. Observations:      8906              BIC:               7113.5969\n",
      "Df Model:              1                 Log-Likelihood:    -3547.7  \n",
      "Df Residuals:          8904              LL-Null:           -3548.3  \n",
      "Converged:             1.0000            Scale:             1.0000   \n",
      "---------------------------------------------------------------------\n",
      "                      Coef.  Std.Err.    z     P>|z|   [0.025  0.975]\n",
      "---------------------------------------------------------------------\n",
      "intercept            -1.8406   0.0311 -59.1825 0.0000 -1.9016 -1.7797\n",
      "downgrading_demeaned  0.4059   0.3546   1.1445 0.2524 -0.2892  1.1009\n",
      "=====================================================================\n",
      "\n"
     ]
    }
   ],
   "source": [
    "logit = smf.Logit(y,x1)\n",
    "logit_f = logit.fit()\n",
    "print(logit_f.summary2())"
   ]
  },
  {
   "cell_type": "code",
   "execution_count": 94,
   "metadata": {},
   "outputs": [
    {
     "name": "stdout",
     "output_type": "stream",
     "text": [
      "Optimization terminated successfully.\n",
      "         Current function value: 0.398264\n",
      "         Iterations 6\n",
      "                           Results: Logit\n",
      "====================================================================\n",
      "Model:                Logit             No. Iterations:    6.0000   \n",
      "Dependent Variable:   lead_binary_best  Pseudo R-squared:  0.000    \n",
      "Date:                 2018-11-30 22:22  AIC:               7097.8823\n",
      "No. Observations:     8906              BIC:               7112.0713\n",
      "Df Model:             1                 Log-Likelihood:    -3546.9  \n",
      "Df Residuals:         8904              LL-Null:           -3548.3  \n",
      "Converged:            1.0000            Scale:             1.0000   \n",
      "--------------------------------------------------------------------\n",
      "                     Coef.  Std.Err.    z     P>|z|   [0.025  0.975]\n",
      "--------------------------------------------------------------------\n",
      "intercept           -1.8730   0.0353 -53.0166 0.0000 -1.9422 -1.8037\n",
      "slope_degree_demean -1.1087   0.6648  -1.6677 0.0954 -2.4117  0.1943\n",
      "====================================================================\n",
      "\n"
     ]
    }
   ],
   "source": [
    "logit = smf.Logit(y,x2)\n",
    "logit_f = logit.fit()\n",
    "print(logit_f.summary2())"
   ]
  },
  {
   "cell_type": "code",
   "execution_count": 95,
   "metadata": {},
   "outputs": [
    {
     "name": "stdout",
     "output_type": "stream",
     "text": [
      "Optimization terminated successfully.\n",
      "         Current function value: 0.397930\n",
      "         Iterations 6\n",
      "                            Results: Logit\n",
      "=======================================================================\n",
      "Model:                 Logit              No. Iterations:     6.0000   \n",
      "Dependent Variable:    lead_binary_best   Pseudo R-squared:   0.001    \n",
      "Date:                  2018-11-30 22:22   AIC:                7095.9221\n",
      "No. Observations:      8906               BIC:                7124.3001\n",
      "Df Model:              3                  Log-Likelihood:     -3544.0  \n",
      "Df Residuals:          8902               LL-Null:            -3548.3  \n",
      "Converged:             1.0000             Scale:              1.0000   \n",
      "-----------------------------------------------------------------------\n",
      "                        Coef.  Std.Err.    z     P>|z|   [0.025  0.975]\n",
      "-----------------------------------------------------------------------\n",
      "intercept              -2.1540   0.1294 -16.6495 0.0000 -2.4076 -1.9005\n",
      "indegree_norm_demeaned -1.3418   0.5756  -2.3310 0.0198 -2.4700 -0.2136\n",
      "downgrading_demeaned    0.2755   0.3694   0.7458 0.4558 -0.4485  0.9995\n",
      "slope_degree_demean    -0.6668   0.6964  -0.9576 0.3383 -2.0318  0.6981\n",
      "=======================================================================\n",
      "\n"
     ]
    }
   ],
   "source": [
    "logit = smf.Logit(y,x3)\n",
    "logit_f = logit.fit()\n",
    "print(logit_f.summary2())"
   ]
  },
  {
   "cell_type": "markdown",
   "metadata": {},
   "source": [
    "# pystan:"
   ]
  },
  {
   "cell_type": "code",
   "execution_count": 16,
   "metadata": {},
   "outputs": [
    {
     "name": "stdout",
     "output_type": "stream",
     "text": [
      "Using cached StanModel\n"
     ]
    }
   ],
   "source": [
    "compiled_model1 = stan_utility.compile_model('model1.stan')"
   ]
  },
  {
   "cell_type": "code",
   "execution_count": 17,
   "metadata": {},
   "outputs": [
    {
     "data": {
      "text/plain": [
       "['indegree_norm', 'downgrading', 'slope_degree']"
      ]
     },
     "execution_count": 17,
     "metadata": {},
     "output_type": "execute_result"
    }
   ],
   "source": [
    "list(best_set[3])"
   ]
  },
  {
   "cell_type": "code",
   "execution_count": 18,
   "metadata": {},
   "outputs": [],
   "source": [
    "def gen_data_list(df=df, X_list = ['slope_degree']):\n",
    "    \n",
    "    \n",
    "    N_obs = df.shape[0]\n",
    "    N_countries  = len(df['country_id'])\n",
    "    country_id = df['country_id'].astype(int)\n",
    "    N_years = len(df['year'])\n",
    "    year_indicator = df['year_indicator_all']\n",
    "    \n",
    "    y = df['lead_binary_best'].astype(int)\n",
    "\n",
    "    X = df[X_list]\n",
    "    K_col = X.shape[1]\n",
    "    \n",
    "    data_list = dict(X = X,\n",
    "                 #X_pred = X2_test,\n",
    "                 y = y,\n",
    "                 N = N_obs,\n",
    "                 #N_pred = N_obs_test,\n",
    "                 K = K_col,\n",
    "                 J = N_countries,\n",
    "                 C = country_id,\n",
    "                 #C_pred = country_indicator_test,\n",
    "                 M = N_years,\n",
    "                 T = year_indicator)\n",
    "           \n",
    "           \n",
    "    return(data_list)"
   ]
  },
  {
   "cell_type": "code",
   "execution_count": 19,
   "metadata": {},
   "outputs": [],
   "source": [
    "# make a loop:\n",
    "data_list0 = gen_data_list(X_list = [best_set[3][0]])\n",
    "data_list1 = gen_data_list(X_list = [best_set[3][1]])\n",
    "data_list2 = gen_data_list(X_list = [best_set[3][2]])\n",
    "data_list3 = gen_data_list(X_list= list(best_set[3]))"
   ]
  },
  {
   "cell_type": "code",
   "execution_count": 20,
   "metadata": {},
   "outputs": [
    {
     "name": "stderr",
     "output_type": "stream",
     "text": [
      "/home/polichinel/anaconda3/lib/python3.6/site-packages/pystan/misc.py:399: FutureWarning: Conversion of the second argument of issubdtype from `float` to `np.floating` is deprecated. In future, it will be treated as `np.float64 == np.dtype(float).type`.\n",
      "  elif np.issubdtype(np.asarray(v).dtype, float):\n",
      "/home/polichinel/anaconda3/lib/python3.6/site-packages/ipykernel_launcher.py:6: UserWarning: Pickling fit objects is an experimental feature!\n",
      "The relevant StanModel instance must be pickled along with this fit object.\n",
      "When unpickling the StanModel must be unpickled first.\n",
      "  \n"
     ]
    },
    {
     "name": "stdout",
     "output_type": "stream",
     "text": [
      "one done\n"
     ]
    },
    {
     "name": "stderr",
     "output_type": "stream",
     "text": [
      "/home/polichinel/anaconda3/lib/python3.6/site-packages/ipykernel_launcher.py:17: UserWarning: Pickling fit objects is an experimental feature!\n",
      "The relevant StanModel instance must be pickled along with this fit object.\n",
      "When unpickling the StanModel must be unpickled first.\n"
     ]
    },
    {
     "name": "stdout",
     "output_type": "stream",
     "text": [
      "two done\n"
     ]
    },
    {
     "name": "stderr",
     "output_type": "stream",
     "text": [
      "/home/polichinel/anaconda3/lib/python3.6/site-packages/ipykernel_launcher.py:28: UserWarning: Pickling fit objects is an experimental feature!\n",
      "The relevant StanModel instance must be pickled along with this fit object.\n",
      "When unpickling the StanModel must be unpickled first.\n"
     ]
    },
    {
     "name": "stdout",
     "output_type": "stream",
     "text": [
      "three done\n"
     ]
    },
    {
     "name": "stderr",
     "output_type": "stream",
     "text": [
      "/home/polichinel/anaconda3/lib/python3.6/site-packages/ipykernel_launcher.py:39: UserWarning: Pickling fit objects is an experimental feature!\n",
      "The relevant StanModel instance must be pickled along with this fit object.\n",
      "When unpickling the StanModel must be unpickled first.\n"
     ]
    },
    {
     "name": "stdout",
     "output_type": "stream",
     "text": [
      "All done\n",
      "minutes in took to finish: 218.5672983964284\n"
     ]
    }
   ],
   "source": [
    "time_start = time.time()\n",
    "# ----------------------------------------------------------------------------\n",
    "stan_model0 = compiled_model1.sampling(data=data_list0, seed=123)\n",
    "\n",
    "with open(\"model0_fit.pkl\", \"wb\") as f:\n",
    "    pickle.dump({'model' : compiled_model1, 'fit' : stan_model0}, f, protocol=-1)\n",
    "f.close()\n",
    "\n",
    "print(\"one done\")\n",
    "\n",
    "\n",
    "# ----------------------------------------------------------------------------\n",
    "\n",
    "stan_model1 = compiled_model1.sampling(data=data_list1, seed=123)\n",
    "\n",
    "with open(\"model1_fit.pkl\", \"wb\") as f:\n",
    "    pickle.dump({'model' : compiled_model1, 'fit' : stan_model1}, f, protocol=-1)\n",
    "f.close()\n",
    "\n",
    "print(\"two done\")\n",
    "\n",
    "\n",
    "# ----------------------------------------------------------------------------\n",
    "\n",
    "stan_model2 = compiled_model1.sampling(data=data_list2, seed=123)\n",
    "\n",
    "with open(\"model2_fit.pkl\", \"wb\") as f:\n",
    "    pickle.dump({'model' : compiled_model1, 'fit' : stan_model2}, f, protocol=-1)\n",
    "f.close()\n",
    "\n",
    "print(\"three done\")\n",
    "\n",
    "\n",
    "# ----------------------------------------------------------------------------\n",
    "\n",
    "stan_model3 = compiled_model1.sampling(data=data_list3, seed=123)\n",
    "\n",
    "with open(\"model3_fit.pkl\", \"wb\") as f:\n",
    "    pickle.dump({'model' : compiled_model1, 'fit' : stan_model3}, f, protocol=-1)\n",
    "f.close()\n",
    "\n",
    "print(\"All done\")\n",
    "\n",
    "time_end = (time.time() - time_start)/60\n",
    "print(\"minutes in took to finish: {}\".format(time_end))"
   ]
  },
  {
   "cell_type": "code",
   "execution_count": 21,
   "metadata": {},
   "outputs": [],
   "source": [
    "# # Lead pickles is applicable..\n",
    "\n",
    "# with open(\"model0_fit.pkl\", \"rb\") as f:\n",
    "#      data_dict = pickle.load(f)\n",
    "\n",
    "# f.close()\n",
    "\n",
    "# stan_model0 = data_dict['fit']\n",
    "\n",
    "\n",
    "# with open(\"model1_fit.pkl\", \"rb\") as f:\n",
    "#      data_dict = pickle.load(f)\n",
    "\n",
    "# f.close()\n",
    "\n",
    "# stan_model1 = data_dict['fit']\n",
    "\n",
    "\n",
    "# with open(\"model2_fit.pkl\", \"rb\") as f:\n",
    "#      data_dict = pickle.load(f)\n",
    "\n",
    "# f.close()\n",
    "\n",
    "# stan_model2 = data_dict['fit']\n",
    "\n",
    "\n",
    "# with open(\"model3_fit.pkl\", \"rb\") as f:\n",
    "#      data_dict = pickle.load(f)\n",
    "\n",
    "# f.close()\n",
    "\n",
    "# stan_model3 = data_dict['fit']"
   ]
  },
  {
   "cell_type": "code",
   "execution_count": 130,
   "metadata": {},
   "outputs": [],
   "source": [
    "def beta_plot(stan_model = stan_model0, beta_label = ''):\n",
    "\n",
    "    plt.figure(figsize=[15,5])\n",
    "    #colors = sns.palettes.color_palette(palette = \"hls\", n_colors = 2)  \n",
    "\n",
    "    if len(stan_model[\"beta\"].shape) == 1:\n",
    "        colors = sns.palettes.color_palette(palette = \"hls\", n_colors = 2) \n",
    "        #beta_label = str(X.columns[0])\n",
    "        sns.kdeplot(stan_model[\"beta\"], label = beta_label, alpha = 0.8, color = colors[1])\n",
    "        \n",
    "        beta_est = stan_model[\"beta\"].mean()\n",
    "        \n",
    "        plt.vlines(beta_est, 0, 1.5, 'darkblue', 'dashed')\n",
    "        plt.text(beta_est * 1.1, 0.4, str(round(beta_est,3)))\n",
    "\n",
    "\n",
    "    elif len(stan_model[\"beta\"].shape) > 1:\n",
    "        \n",
    "        colors = sns.palettes.color_palette(palette = \"hls\", n_colors = stan_model[\"beta\"].shape[1])\n",
    "    \n",
    "        for i in range(stan_model[\"beta\"].shape[1]):\n",
    "            beta_label =  \"beta \" + str(i+1) +\" \"+ str(X.columns[i])\n",
    "            sns.kdeplot(stan_model[\"beta\"][:,i], label = beta_label, alpha = 0.8, color = colors[i])\n",
    "            \n",
    "            beta_est = stan_model[\"beta\"][:,i].mean()\n",
    "            \n",
    "            hight = 0.4 + (i/10)\n",
    "        \n",
    "            plt.vlines(beta_est, 0, 1.5,  colors[i], 'dashed')\n",
    "            plt.text(beta_est * 1.1, hight, str(round(beta_est,3)), color = colors[i])\n",
    "            \n",
    "            \n",
    "    \n",
    "    else:\n",
    "        print('Worng X')\n",
    "    \n",
    "    plt.vlines(0, 0, 1.5, 'darkred', 'dashed')\n",
    "\n",
    "\n",
    "\n",
    "    # plt.xticks(x_ticks_range)\n",
    "    # plt.ylim(y_border)\n",
    "    # plt.xlim(x_border)   \n",
    "    plt.title(\"model1\")    \n",
    "    sns.despine(left = True)\n",
    "    # plt.grid()\n",
    "    #plt.yticks([])\n",
    "    plt.legend(frameon = False)\n",
    "    plt.show()\n",
    "\n",
    "\n",
    "    N_sim = len(stan_model1['beta'])\n",
    "\n",
    "    print('Prop pos or neg:')\n",
    "    prop_pos = np.sum(stan_model1[\"beta\"]>=0)/N_sim\n",
    "    print(prop_pos)\n",
    "\n",
    "\n",
    "    print('Prop neg:')\n",
    "    prop_pos = np.sum(stan_model1[\"beta\"]<0)/N_sim\n",
    "    print(prop_pos)"
   ]
  },
  {
   "cell_type": "code",
   "execution_count": 118,
   "metadata": {},
   "outputs": [
    {
     "data": {
      "image/png": "[encoded data removed]",
      "text/plain": [
       "<Figure size 1080x360 with 1 Axes>"
      ]
     },
     "metadata": {},
     "output_type": "display_data"
    },
    {
     "name": "stdout",
     "output_type": "stream",
     "text": [
      "Prop pos or neg:\n",
      "0.84075\n",
      "Prop neg:\n",
      "0.15925\n"
     ]
    }
   ],
   "source": [
    "beta_plot(stan_model0, beta_label=  best_set[3][0])"
   ]
  },
  {
   "cell_type": "code",
   "execution_count": 119,
   "metadata": {},
   "outputs": [
    {
     "data": {
      "image/png": "[encoded data removed]",
      "text/plain": [
       "<Figure size 1080x360 with 1 Axes>"
      ]
     },
     "metadata": {},
     "output_type": "display_data"
    },
    {
     "name": "stdout",
     "output_type": "stream",
     "text": [
      "Prop pos or neg:\n",
      "0.84075\n",
      "Prop neg:\n",
      "0.15925\n"
     ]
    }
   ],
   "source": [
    "beta_plot(stan_model1, beta_label= best_set[3][1])"
   ]
  },
  {
   "cell_type": "code",
   "execution_count": 120,
   "metadata": {},
   "outputs": [
    {
     "data": {
      "image/png": "[encoded data removed]",
      "text/plain": [
       "<Figure size 1080x360 with 1 Axes>"
      ]
     },
     "metadata": {},
     "output_type": "display_data"
    },
    {
     "name": "stdout",
     "output_type": "stream",
     "text": [
      "Prop pos or neg:\n",
      "0.84075\n",
      "Prop neg:\n",
      "0.15925\n"
     ]
    }
   ],
   "source": [
    "beta_plot(stan_model2, beta_label= best_set[3][2])"
   ]
  },
  {
   "cell_type": "code",
   "execution_count": 131,
   "metadata": {},
   "outputs": [
    {
     "data": {
      "image/png": "[encoded data removed]",
      "text/plain": [
       "<Figure size 1080x360 with 1 Axes>"
      ]
     },
     "metadata": {},
     "output_type": "display_data"
    },
    {
     "name": "stdout",
     "output_type": "stream",
     "text": [
      "Prop pos or neg:\n",
      "0.84075\n",
      "Prop neg:\n",
      "0.15925\n"
     ]
    }
   ],
   "source": [
    "beta_plot(stan_model3)"
   ]
  }
 ],
 "metadata": {
  "kernelspec": {
   "display_name": "Python 3",
   "language": "python",
   "name": "python3"
  },
  "language_info": {
   "codemirror_mode": {
    "name": "ipython",
    "version": 3
   },
   "file_extension": ".py",
   "mimetype": "text/x-python",
   "name": "python",
   "nbconvert_exporter": "python",
   "pygments_lexer": "ipython3",
   "version": "3.6.6"
  }
 },
 "nbformat": 4,
 "nbformat_minor": 2
}
