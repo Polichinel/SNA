{
 "cells": [
  {
   "cell_type": "code",
   "execution_count": 1,
   "metadata": {},
   "outputs": [
    {
     "name": "stderr",
     "output_type": "stream",
     "text": [
      "\n",
      "Attaching package: ‘dplyr’\n",
      "\n",
      "The following objects are masked from ‘package:stats’:\n",
      "\n",
      "    filter, lag\n",
      "\n",
      "The following objects are masked from ‘package:base’:\n",
      "\n",
      "    intersect, setdiff, setequal, union\n",
      "\n",
      "\n",
      "Attaching package: ‘igraph’\n",
      "\n",
      "The following objects are masked from ‘package:dplyr’:\n",
      "\n",
      "    as_data_frame, groups, union\n",
      "\n",
      "The following objects are masked from ‘package:stats’:\n",
      "\n",
      "    decompose, spectrum\n",
      "\n",
      "The following object is masked from ‘package:base’:\n",
      "\n",
      "    union\n",
      "\n"
     ]
    }
   ],
   "source": [
    "library(dplyr)\n",
    "library(igraph)\n",
    "library(ggplot2)"
   ]
  },
  {
   "cell_type": "code",
   "execution_count": 2,
   "metadata": {},
   "outputs": [],
   "source": [
    "df <- read.csv(\"/home/polichinel/Dropbox/KU/9.semester/SNA/data/DIPCON_3.0_Dyads.csv\")"
   ]
  },
  {
   "cell_type": "code",
   "execution_count": 3,
   "metadata": {},
   "outputs": [
    {
     "data": {
      "text/html": [
       "<table>\n",
       "<thead><tr><th scope=col>X</th><th scope=col>ccode1</th><th scope=col>abbrev1</th><th scope=col>ccode2</th><th scope=col>abbrev2</th><th scope=col>dipcon1970</th><th scope=col>dipcon1975</th><th scope=col>dipcon1980</th><th scope=col>dipcon1985</th><th scope=col>dipcon1990</th><th scope=col>dipcon1995</th><th scope=col>dipcon2000</th><th scope=col>dipcon2005</th><th scope=col>dipcon2010</th></tr></thead>\n",
       "<tbody>\n",
       "\t<tr><td>0  </td><td>2  </td><td>USA</td><td>20 </td><td>CAN</td><td> 1 </td><td>1  </td><td>1  </td><td>1  </td><td>1  </td><td>1  </td><td>1  </td><td>1  </td><td>1  </td></tr>\n",
       "\t<tr><td>1  </td><td>2  </td><td>USA</td><td>31 </td><td>BHM</td><td>NA </td><td>0  </td><td>1  </td><td>1  </td><td>1  </td><td>1  </td><td>1  </td><td>1  </td><td>1  </td></tr>\n",
       "\t<tr><td>2  </td><td>2  </td><td>USA</td><td>40 </td><td>CUB</td><td> 0 </td><td>0  </td><td>0  </td><td>0  </td><td>0  </td><td>0  </td><td>0  </td><td>1  </td><td>1  </td></tr>\n",
       "</tbody>\n",
       "</table>\n"
      ],
      "text/latex": [
       "\\begin{tabular}{r|llllllllllllll}\n",
       " X & ccode1 & abbrev1 & ccode2 & abbrev2 & dipcon1970 & dipcon1975 & dipcon1980 & dipcon1985 & dipcon1990 & dipcon1995 & dipcon2000 & dipcon2005 & dipcon2010\\\\\n",
       "\\hline\n",
       "\t 0   & 2   & USA & 20  & CAN &  1  & 1   & 1   & 1   & 1   & 1   & 1   & 1   & 1  \\\\\n",
       "\t 1   & 2   & USA & 31  & BHM & NA  & 0   & 1   & 1   & 1   & 1   & 1   & 1   & 1  \\\\\n",
       "\t 2   & 2   & USA & 40  & CUB &  0  & 0   & 0   & 0   & 0   & 0   & 0   & 1   & 1  \\\\\n",
       "\\end{tabular}\n"
      ],
      "text/markdown": [
       "\n",
       "X | ccode1 | abbrev1 | ccode2 | abbrev2 | dipcon1970 | dipcon1975 | dipcon1980 | dipcon1985 | dipcon1990 | dipcon1995 | dipcon2000 | dipcon2005 | dipcon2010 | \n",
       "|---|---|---|\n",
       "| 0   | 2   | USA | 20  | CAN |  1  | 1   | 1   | 1   | 1   | 1   | 1   | 1   | 1   | \n",
       "| 1   | 2   | USA | 31  | BHM | NA  | 0   | 1   | 1   | 1   | 1   | 1   | 1   | 1   | \n",
       "| 2   | 2   | USA | 40  | CUB |  0  | 0   | 0   | 0   | 0   | 0   | 0   | 1   | 1   | \n",
       "\n",
       "\n"
      ],
      "text/plain": [
       "  X ccode1 abbrev1 ccode2 abbrev2 dipcon1970 dipcon1975 dipcon1980 dipcon1985\n",
       "1 0 2      USA     20     CAN      1         1          1          1         \n",
       "2 1 2      USA     31     BHM     NA         0          1          1         \n",
       "3 2 2      USA     40     CUB      0         0          0          0         \n",
       "  dipcon1990 dipcon1995 dipcon2000 dipcon2005 dipcon2010\n",
       "1 1          1          1          1          1         \n",
       "2 1          1          1          1          1         \n",
       "3 0          0          0          1          1         "
      ]
     },
     "metadata": {},
     "output_type": "display_data"
    }
   ],
   "source": [
    "head(df,3)"
   ]
  },
  {
   "cell_type": "code",
   "execution_count": 65,
   "metadata": {},
   "outputs": [],
   "source": [
    "get_graph_lists <- function(df){\n",
    "\n",
    "    years <- c(1970,1975,1980,1985,1990,1995,2000,2005,2010)\n",
    "    list_of_graphs <- list()\n",
    "\n",
    "    for (i in 1 : length(years)) {\n",
    "\n",
    "        feature_name <- paste0('dipcon',years[i])\n",
    "        graph_name <- paste0('G_',years[i])\n",
    "\n",
    "        edge_list <- df %>% filter(df[feature_name] > 0) %>% select(abbrev1, abbrev2)# year specific edge lists\n",
    "        \n",
    "        G <- graph.data.frame(edge_list, directed = T)\n",
    "\n",
    "        list_of_graphs[[graph_name]] <- G\n",
    "\n",
    "\n",
    "    }\n",
    "    \n",
    "    return(list_of_graphs)       \n",
    "\n",
    "}"
   ]
  },
  {
   "cell_type": "markdown",
   "metadata": {},
   "source": [
    "### Så nu skal du lave 9 datasæt med alle relevante variabler:\n",
    "\n",
    "- Degree (normalized)\n",
    "- Degree centrality (normalized)\n",
    "- Betweenness centrality (normalized?)\n",
    "\n",
    "Men du kan ligeså godt også få de aggregerede variabler in der:\n",
    "\n",
    "- graph_mean_degree\n",
    "- graph_mean_degree_centrality\n",
    "- graph_mean_betweenness_centrality\n",
    "- graph_density\n",
    "- graph_degree_centralization\n",
    "- graph_betweenness_cantralisation\n",
    "\n",
    "Herfra burde du kunne lave de relevante feautures, plots og estimationer i python."
   ]
  },
  {
   "cell_type": "code",
   "execution_count": 94,
   "metadata": {},
   "outputs": [],
   "source": [
    "get_df_list <- function(df){\n",
    "\n",
    "    list_of_graphs <- get_graph_lists(df)\n",
    "    list_of_df <- list()\n",
    "\n",
    "\n",
    "    for (i in 1 : length(list_of_graphs)){\n",
    "\n",
    "        years <- c(1970,1975,1980,1985,1990,1995,2000,2005,2010)\n",
    "        graph_name <- paste0('G_',years[i])\n",
    "        df_name <- paste0('df_',years[i])\n",
    "\n",
    "        G <- list_of_graphs[[graph_name]]\n",
    "        \n",
    "        G <-simplify(G, remove.loops = T, remove.multiple = F)\n",
    "\n",
    "        df_G <- data.frame(country = V(G)$name,\n",
    "                      year = years[i],\n",
    "                      indegree_norm = degree(G, mode = \"in\", normalized = T),\n",
    "                      indegree = degree(G, mode = \"in\", normalized = F),\n",
    "                      outdegree_norm = degree(G, mode = \"out\", normalized = T),\n",
    "                      outdegree = degree(G, mode = \"out\", normalized = F),\n",
    "                      degree_norm = degree(G, mode = \"all\", normalized = T),\n",
    "                      degree = degree(G, mode = \"all\", normalized = F),\n",
    "                      betweenness_dir = betweenness(G, directed = T, normalized = F),\n",
    "                      betweenness = betweenness(G, directed = F, normalized = F),                  \n",
    "                      betweenness_dir_norm = betweenness(G, directed = T, normalized = T),\n",
    "                      betweenness_norm = betweenness(G, directed = F, normalized = T),\n",
    "                      graph_deg_cantr_in = centr_degree(G, normalized = T, mode = 'in'),\n",
    "                      graph_deg_cantr_out = centr_degree(G, normalized = T, mode = 'out'),\n",
    "                      graph_deg_cantr_all = centr_degree(G, normalized = T, mode = 'all'),\n",
    "                      graph_betw_cantr_in = centr_betw(G, normalized = T),\n",
    "                      graph_dens = graph.density(G))\n",
    "\n",
    "        list_of_df[[df_name]] <- df_G \n",
    "\n",
    "    }\n",
    "    \n",
    "    return(list_of_df)   \n",
    "    \n",
    "}"
   ]
  },
  {
   "cell_type": "code",
   "execution_count": 100,
   "metadata": {},
   "outputs": [
    {
     "data": {
      "text/html": [
       "<table>\n",
       "<thead><tr><th></th><th scope=col>country</th><th scope=col>year</th><th scope=col>indegree_norm</th><th scope=col>indegree</th><th scope=col>outdegree_norm</th><th scope=col>outdegree</th><th scope=col>degree_norm</th><th scope=col>degree</th><th scope=col>betweenness_dir</th><th scope=col>betweenness</th><th scope=col>⋯</th><th scope=col>graph_deg_cantr_out.res</th><th scope=col>graph_deg_cantr_out.centralization</th><th scope=col>graph_deg_cantr_out.theoretical_max</th><th scope=col>graph_deg_cantr_all.res</th><th scope=col>graph_deg_cantr_all.centralization</th><th scope=col>graph_deg_cantr_all.theoretical_max</th><th scope=col>graph_betw_cantr_in.res</th><th scope=col>graph_betw_cantr_in.centralization</th><th scope=col>graph_betw_cantr_in.theoretical_max</th><th scope=col>graph_dens</th></tr></thead>\n",
       "<tbody>\n",
       "\t<tr><th scope=row>USA</th><td>USA      </td><td>1970     </td><td>0.7803030</td><td>103      </td><td>0.7196970</td><td>95       </td><td>1.5000000</td><td>198      </td><td>1993.2812</td><td>955.85127</td><td>⋯        </td><td>95       </td><td>0.6099909</td><td>17556    </td><td>198      </td><td>0.5840794</td><td>34848    </td><td>1993.2812</td><td>0.1098925</td><td>2282544  </td><td>0.2081909</td></tr>\n",
       "\t<tr><th scope=row>CAN</th><td>CAN      </td><td>1970     </td><td>0.4545455</td><td> 60      </td><td>0.4469697</td><td>59       </td><td>0.9015152</td><td>119      </td><td> 227.6034</td><td> 98.96435</td><td>⋯        </td><td>59       </td><td>0.6099909</td><td>17556    </td><td>119      </td><td>0.5840794</td><td>34848    </td><td> 227.6034</td><td>0.1098925</td><td>2282544  </td><td>0.2081909</td></tr>\n",
       "\t<tr><th scope=row>CUB</th><td>CUB      </td><td>1970     </td><td>0.2196970</td><td> 29      </td><td>0.2045455</td><td>27       </td><td>0.4242424</td><td> 56      </td><td>  31.4925</td><td> 14.59579</td><td>⋯        </td><td>27       </td><td>0.6099909</td><td>17556    </td><td> 56      </td><td>0.5840794</td><td>34848    </td><td>  31.4925</td><td>0.1098925</td><td>2282544  </td><td>0.2081909</td></tr>\n",
       "</tbody>\n",
       "</table>\n"
      ],
      "text/latex": [
       "\\begin{tabular}{r|lllllllllllllllllllllllll}\n",
       "  & country & year & indegree\\_norm & indegree & outdegree\\_norm & outdegree & degree\\_norm & degree & betweenness\\_dir & betweenness & ⋯ & graph\\_deg\\_cantr\\_out.res & graph\\_deg\\_cantr\\_out.centralization & graph\\_deg\\_cantr\\_out.theoretical\\_max & graph\\_deg\\_cantr\\_all.res & graph\\_deg\\_cantr\\_all.centralization & graph\\_deg\\_cantr\\_all.theoretical\\_max & graph\\_betw\\_cantr\\_in.res & graph\\_betw\\_cantr\\_in.centralization & graph\\_betw\\_cantr\\_in.theoretical\\_max & graph\\_dens\\\\\n",
       "\\hline\n",
       "\tUSA & USA       & 1970      & 0.7803030 & 103       & 0.7196970 & 95        & 1.5000000 & 198       & 1993.2812 & 955.85127 & ⋯         & 95        & 0.6099909 & 17556     & 198       & 0.5840794 & 34848     & 1993.2812 & 0.1098925 & 2282544   & 0.2081909\\\\\n",
       "\tCAN & CAN       & 1970      & 0.4545455 &  60       & 0.4469697 & 59        & 0.9015152 & 119       &  227.6034 &  98.96435 & ⋯         & 59        & 0.6099909 & 17556     & 119       & 0.5840794 & 34848     &  227.6034 & 0.1098925 & 2282544   & 0.2081909\\\\\n",
       "\tCUB & CUB       & 1970      & 0.2196970 &  29       & 0.2045455 & 27        & 0.4242424 &  56       &   31.4925 &  14.59579 & ⋯         & 27        & 0.6099909 & 17556     &  56       & 0.5840794 & 34848     &   31.4925 & 0.1098925 & 2282544   & 0.2081909\\\\\n",
       "\\end{tabular}\n"
      ],
      "text/markdown": [
       "\n",
       "| <!--/--> | country | year | indegree_norm | indegree | outdegree_norm | outdegree | degree_norm | degree | betweenness_dir | betweenness | ⋯ | graph_deg_cantr_out.res | graph_deg_cantr_out.centralization | graph_deg_cantr_out.theoretical_max | graph_deg_cantr_all.res | graph_deg_cantr_all.centralization | graph_deg_cantr_all.theoretical_max | graph_betw_cantr_in.res | graph_betw_cantr_in.centralization | graph_betw_cantr_in.theoretical_max | graph_dens | \n",
       "|---|---|---|\n",
       "| USA | USA       | 1970      | 0.7803030 | 103       | 0.7196970 | 95        | 1.5000000 | 198       | 1993.2812 | 955.85127 | ⋯         | 95        | 0.6099909 | 17556     | 198       | 0.5840794 | 34848     | 1993.2812 | 0.1098925 | 2282544   | 0.2081909 | \n",
       "| CAN | CAN       | 1970      | 0.4545455 |  60       | 0.4469697 | 59        | 0.9015152 | 119       |  227.6034 |  98.96435 | ⋯         | 59        | 0.6099909 | 17556     | 119       | 0.5840794 | 34848     |  227.6034 | 0.1098925 | 2282544   | 0.2081909 | \n",
       "| CUB | CUB       | 1970      | 0.2196970 |  29       | 0.2045455 | 27        | 0.4242424 |  56       |   31.4925 |  14.59579 | ⋯         | 27        | 0.6099909 | 17556     |  56       | 0.5840794 | 34848     |   31.4925 | 0.1098925 | 2282544   | 0.2081909 | \n",
       "\n",
       "\n"
      ],
      "text/plain": [
       "    country year indegree_norm indegree outdegree_norm outdegree degree_norm\n",
       "USA USA     1970 0.7803030     103      0.7196970      95        1.5000000  \n",
       "CAN CAN     1970 0.4545455      60      0.4469697      59        0.9015152  \n",
       "CUB CUB     1970 0.2196970      29      0.2045455      27        0.4242424  \n",
       "    degree betweenness_dir betweenness ⋯ graph_deg_cantr_out.res\n",
       "USA 198    1993.2812       955.85127   ⋯ 95                     \n",
       "CAN 119     227.6034        98.96435   ⋯ 59                     \n",
       "CUB  56      31.4925        14.59579   ⋯ 27                     \n",
       "    graph_deg_cantr_out.centralization graph_deg_cantr_out.theoretical_max\n",
       "USA 0.6099909                          17556                              \n",
       "CAN 0.6099909                          17556                              \n",
       "CUB 0.6099909                          17556                              \n",
       "    graph_deg_cantr_all.res graph_deg_cantr_all.centralization\n",
       "USA 198                     0.5840794                         \n",
       "CAN 119                     0.5840794                         \n",
       "CUB  56                     0.5840794                         \n",
       "    graph_deg_cantr_all.theoretical_max graph_betw_cantr_in.res\n",
       "USA 34848                               1993.2812              \n",
       "CAN 34848                                227.6034              \n",
       "CUB 34848                                 31.4925              \n",
       "    graph_betw_cantr_in.centralization graph_betw_cantr_in.theoretical_max\n",
       "USA 0.1098925                          2282544                            \n",
       "CAN 0.1098925                          2282544                            \n",
       "CUB 0.1098925                          2282544                            \n",
       "    graph_dens\n",
       "USA 0.2081909 \n",
       "CAN 0.2081909 \n",
       "CUB 0.2081909 "
      ]
     },
     "metadata": {},
     "output_type": "display_data"
    },
    {
     "data": {
      "text/html": [
       "<table>\n",
       "<thead><tr><th></th><th scope=col>country</th><th scope=col>year</th><th scope=col>indegree_norm</th><th scope=col>indegree</th><th scope=col>outdegree_norm</th><th scope=col>outdegree</th><th scope=col>degree_norm</th><th scope=col>degree</th><th scope=col>betweenness_dir</th><th scope=col>betweenness</th><th scope=col>⋯</th><th scope=col>graph_deg_cantr_out.res</th><th scope=col>graph_deg_cantr_out.centralization</th><th scope=col>graph_deg_cantr_out.theoretical_max</th><th scope=col>graph_deg_cantr_all.res</th><th scope=col>graph_deg_cantr_all.centralization</th><th scope=col>graph_deg_cantr_all.theoretical_max</th><th scope=col>graph_betw_cantr_in.res</th><th scope=col>graph_betw_cantr_in.centralization</th><th scope=col>graph_betw_cantr_in.theoretical_max</th><th scope=col>graph_dens</th></tr></thead>\n",
       "<tbody>\n",
       "\t<tr><th scope=row>USA</th><td>USA         </td><td>2010        </td><td>0.97354497  </td><td>184         </td><td>0.80423280  </td><td>152         </td><td>1.77777778  </td><td>336         </td><td>3736.4020213</td><td>1887.5063956</td><td>⋯           </td><td>152         </td><td>0.616235    </td><td>35910       </td><td>336         </td><td>0.6620475   </td><td>71442       </td><td>3736.4020213</td><td>0.1014659   </td><td>6715548     </td><td>0.2303258   </td></tr>\n",
       "\t<tr><th scope=row>CAN</th><td>CAN         </td><td>2010        </td><td>0.68783069  </td><td>130         </td><td>0.48677249  </td><td> 92         </td><td>1.17460317  </td><td>222         </td><td> 578.2783077</td><td> 318.5855304</td><td>⋯           </td><td> 92         </td><td>0.616235    </td><td>35910       </td><td>222         </td><td>0.6620475   </td><td>71442       </td><td> 578.2783077</td><td>0.1014659   </td><td>6715548     </td><td>0.2303258   </td></tr>\n",
       "\t<tr><th scope=row>BHM</th><td>BHM         </td><td>2010        </td><td>0.02645503  </td><td>  5         </td><td>0.03174603  </td><td>  6         </td><td>0.05820106  </td><td> 11         </td><td>   0.4044652</td><td>   0.1233333</td><td>⋯           </td><td>  6         </td><td>0.616235    </td><td>35910       </td><td> 11         </td><td>0.6620475   </td><td>71442       </td><td>   0.4044652</td><td>0.1014659   </td><td>6715548     </td><td>0.2303258   </td></tr>\n",
       "</tbody>\n",
       "</table>\n"
      ],
      "text/latex": [
       "\\begin{tabular}{r|lllllllllllllllllllllllll}\n",
       "  & country & year & indegree\\_norm & indegree & outdegree\\_norm & outdegree & degree\\_norm & degree & betweenness\\_dir & betweenness & ⋯ & graph\\_deg\\_cantr\\_out.res & graph\\_deg\\_cantr\\_out.centralization & graph\\_deg\\_cantr\\_out.theoretical\\_max & graph\\_deg\\_cantr\\_all.res & graph\\_deg\\_cantr\\_all.centralization & graph\\_deg\\_cantr\\_all.theoretical\\_max & graph\\_betw\\_cantr\\_in.res & graph\\_betw\\_cantr\\_in.centralization & graph\\_betw\\_cantr\\_in.theoretical\\_max & graph\\_dens\\\\\n",
       "\\hline\n",
       "\tUSA & USA          & 2010         & 0.97354497   & 184          & 0.80423280   & 152          & 1.77777778   & 336          & 3736.4020213 & 1887.5063956 & ⋯            & 152          & 0.616235     & 35910        & 336          & 0.6620475    & 71442        & 3736.4020213 & 0.1014659    & 6715548      & 0.2303258   \\\\\n",
       "\tCAN & CAN          & 2010         & 0.68783069   & 130          & 0.48677249   &  92          & 1.17460317   & 222          &  578.2783077 &  318.5855304 & ⋯            &  92          & 0.616235     & 35910        & 222          & 0.6620475    & 71442        &  578.2783077 & 0.1014659    & 6715548      & 0.2303258   \\\\\n",
       "\tBHM & BHM          & 2010         & 0.02645503   &   5          & 0.03174603   &   6          & 0.05820106   &  11          &    0.4044652 &    0.1233333 & ⋯            &   6          & 0.616235     & 35910        &  11          & 0.6620475    & 71442        &    0.4044652 & 0.1014659    & 6715548      & 0.2303258   \\\\\n",
       "\\end{tabular}\n"
      ],
      "text/markdown": [
       "\n",
       "| <!--/--> | country | year | indegree_norm | indegree | outdegree_norm | outdegree | degree_norm | degree | betweenness_dir | betweenness | ⋯ | graph_deg_cantr_out.res | graph_deg_cantr_out.centralization | graph_deg_cantr_out.theoretical_max | graph_deg_cantr_all.res | graph_deg_cantr_all.centralization | graph_deg_cantr_all.theoretical_max | graph_betw_cantr_in.res | graph_betw_cantr_in.centralization | graph_betw_cantr_in.theoretical_max | graph_dens | \n",
       "|---|---|---|\n",
       "| USA | USA          | 2010         | 0.97354497   | 184          | 0.80423280   | 152          | 1.77777778   | 336          | 3736.4020213 | 1887.5063956 | ⋯            | 152          | 0.616235     | 35910        | 336          | 0.6620475    | 71442        | 3736.4020213 | 0.1014659    | 6715548      | 0.2303258    | \n",
       "| CAN | CAN          | 2010         | 0.68783069   | 130          | 0.48677249   |  92          | 1.17460317   | 222          |  578.2783077 |  318.5855304 | ⋯            |  92          | 0.616235     | 35910        | 222          | 0.6620475    | 71442        |  578.2783077 | 0.1014659    | 6715548      | 0.2303258    | \n",
       "| BHM | BHM          | 2010         | 0.02645503   |   5          | 0.03174603   |   6          | 0.05820106   |  11          |    0.4044652 |    0.1233333 | ⋯            |   6          | 0.616235     | 35910        |  11          | 0.6620475    | 71442        |    0.4044652 | 0.1014659    | 6715548      | 0.2303258    | \n",
       "\n",
       "\n"
      ],
      "text/plain": [
       "    country year indegree_norm indegree outdegree_norm outdegree degree_norm\n",
       "USA USA     2010 0.97354497    184      0.80423280     152       1.77777778 \n",
       "CAN CAN     2010 0.68783069    130      0.48677249      92       1.17460317 \n",
       "BHM BHM     2010 0.02645503      5      0.03174603       6       0.05820106 \n",
       "    degree betweenness_dir betweenness  ⋯ graph_deg_cantr_out.res\n",
       "USA 336    3736.4020213    1887.5063956 ⋯ 152                    \n",
       "CAN 222     578.2783077     318.5855304 ⋯  92                    \n",
       "BHM  11       0.4044652       0.1233333 ⋯   6                    \n",
       "    graph_deg_cantr_out.centralization graph_deg_cantr_out.theoretical_max\n",
       "USA 0.616235                           35910                              \n",
       "CAN 0.616235                           35910                              \n",
       "BHM 0.616235                           35910                              \n",
       "    graph_deg_cantr_all.res graph_deg_cantr_all.centralization\n",
       "USA 336                     0.6620475                         \n",
       "CAN 222                     0.6620475                         \n",
       "BHM  11                     0.6620475                         \n",
       "    graph_deg_cantr_all.theoretical_max graph_betw_cantr_in.res\n",
       "USA 71442                               3736.4020213           \n",
       "CAN 71442                                578.2783077           \n",
       "BHM 71442                                  0.4044652           \n",
       "    graph_betw_cantr_in.centralization graph_betw_cantr_in.theoretical_max\n",
       "USA 0.1014659                          6715548                            \n",
       "CAN 0.1014659                          6715548                            \n",
       "BHM 0.1014659                          6715548                            \n",
       "    graph_dens\n",
       "USA 0.2303258 \n",
       "CAN 0.2303258 \n",
       "BHM 0.2303258 "
      ]
     },
     "metadata": {},
     "output_type": "display_data"
    }
   ],
   "source": [
    "# test\n",
    "list_of_df <- get_df_list(df)\n",
    "\n",
    "head(list_of_df$df_1970,3)\n",
    "head(list_of_df$df_2010,3)"
   ]
  },
  {
   "cell_type": "markdown",
   "metadata": {},
   "source": [
    "### Concatenate dfs:"
   ]
  },
  {
   "cell_type": "code",
   "execution_count": 97,
   "metadata": {},
   "outputs": [
    {
     "data": {
      "text/html": [
       "<ol class=list-inline>\n",
       "\t<li>1502</li>\n",
       "\t<li>25</li>\n",
       "</ol>\n"
      ],
      "text/latex": [
       "\\begin{enumerate*}\n",
       "\\item 1502\n",
       "\\item 25\n",
       "\\end{enumerate*}\n"
      ],
      "text/markdown": [
       "1. 1502\n",
       "2. 25\n",
       "\n",
       "\n"
      ],
      "text/plain": [
       "[1] 1502   25"
      ]
     },
     "metadata": {},
     "output_type": "display_data"
    }
   ],
   "source": [
    "df_full <- rbind(list_of_df$df_1970,\n",
    "                  list_of_df$df_1975,\n",
    "                  list_of_df$df_1980,\n",
    "                  list_of_df$df_1985,\n",
    "                  list_of_df$df_1990,\n",
    "                  list_of_df$df_1995,\n",
    "                  list_of_df$df_2000,\n",
    "                  list_of_df$df_2005,\n",
    "                  list_of_df$df_2010)\n",
    "dim(df_full)"
   ]
  },
  {
   "cell_type": "markdown",
   "metadata": {},
   "source": [
    "### Save fore python:"
   ]
  },
  {
   "cell_type": "code",
   "execution_count": null,
   "metadata": {},
   "outputs": [],
   "source": [
    "write.csv(df_full, \"diplodata_network_full.csv\")"
   ]
  }
 ],
 "metadata": {
  "kernelspec": {
   "display_name": "R",
   "language": "R",
   "name": "ir"
  },
  "language_info": {
   "codemirror_mode": "r",
   "file_extension": ".r",
   "mimetype": "text/x-r-source",
   "name": "R",
   "pygments_lexer": "r",
   "version": "3.4.4"
  }
 },
 "nbformat": 4,
 "nbformat_minor": 2
}
