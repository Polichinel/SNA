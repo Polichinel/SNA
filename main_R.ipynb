{
 "cells": [
  {
   "cell_type": "code",
   "execution_count": 1,
   "metadata": {},
   "outputs": [
    {
     "name": "stderr",
     "output_type": "stream",
     "text": [
      "\n",
      "Attaching package: ‘dplyr’\n",
      "\n",
      "The following objects are masked from ‘package:stats’:\n",
      "\n",
      "    filter, lag\n",
      "\n",
      "The following objects are masked from ‘package:base’:\n",
      "\n",
      "    intersect, setdiff, setequal, union\n",
      "\n",
      "\n",
      "Attaching package: ‘igraph’\n",
      "\n",
      "The following objects are masked from ‘package:dplyr’:\n",
      "\n",
      "    as_data_frame, groups, union\n",
      "\n",
      "The following objects are masked from ‘package:stats’:\n",
      "\n",
      "    decompose, spectrum\n",
      "\n",
      "The following object is masked from ‘package:base’:\n",
      "\n",
      "    union\n",
      "\n"
     ]
    }
   ],
   "source": [
    "library(dplyr)\n",
    "library(igraph)\n",
    "library(ggplot2)"
   ]
  },
  {
   "cell_type": "code",
   "execution_count": 2,
   "metadata": {},
   "outputs": [],
   "source": [
    "df <- read.csv(\"/home/polichinel/Dropbox/KU/9.semester/SNA/data/DIPCON_3.0_Dyads.csv\")"
   ]
  },
  {
   "cell_type": "code",
   "execution_count": 3,
   "metadata": {},
   "outputs": [
    {
     "data": {
      "text/html": [
       "<table>\n",
       "<thead><tr><th scope=col>X</th><th scope=col>ccode1</th><th scope=col>abbrev1</th><th scope=col>ccode2</th><th scope=col>abbrev2</th><th scope=col>dipcon1970</th><th scope=col>dipcon1975</th><th scope=col>dipcon1980</th><th scope=col>dipcon1985</th><th scope=col>dipcon1990</th><th scope=col>dipcon1995</th><th scope=col>dipcon2000</th><th scope=col>dipcon2005</th><th scope=col>dipcon2010</th></tr></thead>\n",
       "<tbody>\n",
       "\t<tr><td>0  </td><td>2  </td><td>USA</td><td>20 </td><td>CAN</td><td> 1 </td><td>1  </td><td>1  </td><td>1  </td><td>1  </td><td>1  </td><td>1  </td><td>1  </td><td>1  </td></tr>\n",
       "\t<tr><td>1  </td><td>2  </td><td>USA</td><td>31 </td><td>BHM</td><td>NA </td><td>0  </td><td>1  </td><td>1  </td><td>1  </td><td>1  </td><td>1  </td><td>1  </td><td>1  </td></tr>\n",
       "\t<tr><td>2  </td><td>2  </td><td>USA</td><td>40 </td><td>CUB</td><td> 0 </td><td>0  </td><td>0  </td><td>0  </td><td>0  </td><td>0  </td><td>0  </td><td>1  </td><td>1  </td></tr>\n",
       "</tbody>\n",
       "</table>\n"
      ],
      "text/latex": [
       "\\begin{tabular}{r|llllllllllllll}\n",
       " X & ccode1 & abbrev1 & ccode2 & abbrev2 & dipcon1970 & dipcon1975 & dipcon1980 & dipcon1985 & dipcon1990 & dipcon1995 & dipcon2000 & dipcon2005 & dipcon2010\\\\\n",
       "\\hline\n",
       "\t 0   & 2   & USA & 20  & CAN &  1  & 1   & 1   & 1   & 1   & 1   & 1   & 1   & 1  \\\\\n",
       "\t 1   & 2   & USA & 31  & BHM & NA  & 0   & 1   & 1   & 1   & 1   & 1   & 1   & 1  \\\\\n",
       "\t 2   & 2   & USA & 40  & CUB &  0  & 0   & 0   & 0   & 0   & 0   & 0   & 1   & 1  \\\\\n",
       "\\end{tabular}\n"
      ],
      "text/markdown": [
       "\n",
       "X | ccode1 | abbrev1 | ccode2 | abbrev2 | dipcon1970 | dipcon1975 | dipcon1980 | dipcon1985 | dipcon1990 | dipcon1995 | dipcon2000 | dipcon2005 | dipcon2010 | \n",
       "|---|---|---|\n",
       "| 0   | 2   | USA | 20  | CAN |  1  | 1   | 1   | 1   | 1   | 1   | 1   | 1   | 1   | \n",
       "| 1   | 2   | USA | 31  | BHM | NA  | 0   | 1   | 1   | 1   | 1   | 1   | 1   | 1   | \n",
       "| 2   | 2   | USA | 40  | CUB |  0  | 0   | 0   | 0   | 0   | 0   | 0   | 1   | 1   | \n",
       "\n",
       "\n"
      ],
      "text/plain": [
       "  X ccode1 abbrev1 ccode2 abbrev2 dipcon1970 dipcon1975 dipcon1980 dipcon1985\n",
       "1 0 2      USA     20     CAN      1         1          1          1         \n",
       "2 1 2      USA     31     BHM     NA         0          1          1         \n",
       "3 2 2      USA     40     CUB      0         0          0          0         \n",
       "  dipcon1990 dipcon1995 dipcon2000 dipcon2005 dipcon2010\n",
       "1 1          1          1          1          1         \n",
       "2 1          1          1          1          1         \n",
       "3 0          0          0          1          1         "
      ]
     },
     "metadata": {},
     "output_type": "display_data"
    }
   ],
   "source": [
    "head(df,3)"
   ]
  },
  {
   "cell_type": "code",
   "execution_count": 4,
   "metadata": {},
   "outputs": [],
   "source": [
    "get_edge_lists <- function(df){\n",
    "\n",
    "    years <- c(1970,1975,1980,1985,1990,1995,2000,2005,2010)\n",
    "    list_of_graphs <- list()\n",
    "\n",
    "    for (i in 1 : length(years)) {\n",
    "\n",
    "        feature_name <- paste0('dipcon',years[i])\n",
    "        graph_name <- paste0('G_',years[i])\n",
    "\n",
    "        edge_list <- df %>% filter(df[feature_name] > 0) %>% select(abbrev1, abbrev2)# year specific edge lists\n",
    "        \n",
    "        g <- graph.data.frame(edge_list, directed = T)\n",
    "\n",
    "        list_of_graphs[[graph_name]] <- g\n",
    "\n",
    "\n",
    "    }\n",
    "    \n",
    "    return(list_of_graphs)       \n",
    "\n",
    "}"
   ]
  },
  {
   "cell_type": "code",
   "execution_count": 5,
   "metadata": {},
   "outputs": [],
   "source": [
    "get_edge_lists <- get_edge_lists(df)"
   ]
  },
  {
   "cell_type": "code",
   "execution_count": 6,
   "metadata": {},
   "outputs": [
    {
     "data": {
      "text/plain": [
       "IGRAPH df5dc39 DN-- 190 8271 -- \n",
       "+ attr: name (v/c)\n",
       "+ edges from df5dc39 (vertex names):\n",
       " [1] USA->CAN USA->BHM USA->CUB USA->HAI USA->DOM USA->JAM USA->TRI USA->BAR\n",
       " [9] USA->MEX USA->BLZ USA->GUA USA->HON USA->NIC USA->COS USA->PAN USA->COL\n",
       "[17] USA->SUR USA->ECU USA->PER USA->BRA USA->PAR USA->CHL USA->ARG USA->URU\n",
       "[25] USA->UKG USA->IRE USA->BEL USA->FRN USA->SWZ USA->SPN USA->POR USA->GMY\n",
       "[33] USA->POL USA->AUS USA->HUN USA->CZR USA->SLO USA->ITA USA->ALB USA->MNG\n",
       "[41] USA->MAC USA->CRO USA->YUG USA->BOS USA->KOS USA->SLV USA->GRC USA->BUL\n",
       "[49] USA->MLD USA->ROM USA->RUS USA->EST USA->LAT USA->LIT USA->UKR USA->ARM\n",
       "[57] USA->GRG USA->FIN USA->SWD USA->NOR USA->DEN USA->ICE USA->CAP USA->EQG\n",
       "+ ... omitted several edges"
      ]
     },
     "metadata": {},
     "output_type": "display_data"
    }
   ],
   "source": [
    "get_edge_lists$G_2010"
   ]
  },
  {
   "cell_type": "code",
   "execution_count": null,
   "metadata": {},
   "outputs": [],
   "source": []
  },
  {
   "cell_type": "code",
   "execution_count": null,
   "metadata": {},
   "outputs": [],
   "source": []
  },
  {
   "cell_type": "code",
   "execution_count": null,
   "metadata": {},
   "outputs": [],
   "source": []
  },
  {
   "cell_type": "code",
   "execution_count": null,
   "metadata": {},
   "outputs": [],
   "source": []
  },
  {
   "cell_type": "code",
   "execution_count": null,
   "metadata": {},
   "outputs": [],
   "source": []
  }
 ],
 "metadata": {
  "kernelspec": {
   "display_name": "R",
   "language": "R",
   "name": "ir"
  },
  "language_info": {
   "codemirror_mode": "r",
   "file_extension": ".r",
   "mimetype": "text/x-r-source",
   "name": "R",
   "pygments_lexer": "r",
   "version": "3.4.4"
  }
 },
 "nbformat": 4,
 "nbformat_minor": 2
}
